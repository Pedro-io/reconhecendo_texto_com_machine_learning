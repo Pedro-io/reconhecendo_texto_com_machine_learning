{
  "cells": [
    {
      "cell_type": "code",
      "execution_count": 2,
      "metadata": {
        "id": "eq8rMNmYOqvF"
      },
      "outputs": [],
      "source": [
        "import re\n",
        "import string\n",
        "import pandas as pd\n",
        "import nltk\n",
        "from nltk.tokenize import word_tokenize\n",
        "from nltk.corpus import stopwords\n",
        "from nltk.stem import PorterStemmer\n",
        "from sklearn.feature_extraction.text import TfidfVectorizer\n",
        "from sklearn import metrics\n",
        "from sklearn.model_selection import cross_val_predict\n",
        "import seaborn as sns\n",
        "from matplotlib import pyplot as plt\n",
        "from sklearn.model_selection import GridSearchCV"
      ]
    },
    {
      "cell_type": "markdown",
      "metadata": {
        "id": "qG4MdqmqOqvG"
      },
      "source": [
        "**Carrega as bases de treino e teste**"
      ]
    },
    {
      "cell_type": "code",
      "execution_count": 4,
      "metadata": {
        "id": "NntO6XaPOqvH"
      },
      "outputs": [],
      "source": [
        "baseTreino = pd.read_csv(\n",
        "    'ReutersGrain-train.csv', \n",
        "    sep=',',                 # Define o delimitador de campo como vírgula\n",
        "    quotechar=\"'\",           # Define aspas simples como o caractere de citação\n",
        "    quoting=1,               # Configura para citar todos os campos (csv.QUOTE_ALL)\n",
        "    escapechar='\\\\'          # Define barra invertida como o caractere de escape\n",
        ")\n",
        "baseTeste = pd.read_csv(\n",
        "    'ReutersGrain-test.csv', \n",
        "    sep=',',                 # Define o delimitador de campo como vírgula\n",
        "    quotechar=\"'\",           # Define aspas simples como o caractere de citação\n",
        "    quoting=1,               # Configura para citar todos os campos (csv.QUOTE_ALL)\n",
        "    escapechar='\\\\'          # Define barra invertida como o caractere de escape\n",
        ")"
      ]
    },
    {
      "cell_type": "markdown",
      "metadata": {
        "id": "M4pyuwrjOqvH"
      },
      "source": [
        "**Baixa os recursos do NLTK**"
      ]
    },
    {
      "cell_type": "code",
      "execution_count": 13,
      "metadata": {
        "colab": {
          "base_uri": "https://localhost:8080/"
        },
        "id": "4PsEhUJ7OqvH",
        "outputId": "629a4cb7-2752-48bb-86fd-2557e2f554a9"
      },
      "outputs": [
        {
          "name": "stderr",
          "output_type": "stream",
          "text": [
            "[nltk_data] Downloading package punkt to /root/nltk_data...\n",
            "[nltk_data]   Package punkt is already up-to-date!\n",
            "[nltk_data] Downloading package stopwords to /root/nltk_data...\n",
            "[nltk_data]   Package stopwords is already up-to-date!\n"
          ]
        },
        {
          "data": {
            "text/plain": [
              "True"
            ]
          },
          "execution_count": 13,
          "metadata": {},
          "output_type": "execute_result"
        }
      ],
      "source": [
        "nltk.download('punkt')\n",
        "nltk.download('stopwords')"
      ]
    },
    {
      "cell_type": "markdown",
      "metadata": {
        "id": "rCieq4etOqvI"
      },
      "source": [
        "**Inicializa o steemer**"
      ]
    },
    {
      "cell_type": "code",
      "execution_count": 14,
      "metadata": {
        "id": "VFbv4NwAOqvI"
      },
      "outputs": [],
      "source": [
        "stemmer = PorterStemmer()"
      ]
    },
    {
      "cell_type": "markdown",
      "metadata": {
        "id": "uVin3tVDOqvI"
      },
      "source": [
        "**Pré processamento do texto**"
      ]
    },
    {
      "cell_type": "code",
      "execution_count": 15,
      "metadata": {
        "id": "3VaPl77mOqvI"
      },
      "outputs": [],
      "source": [
        "def preprocess(text):\n",
        "\n",
        "    #Tokenização\n",
        "    tokens = word_tokenize(text.lower())\n",
        "\n",
        "    #Remoção de stopwords\n",
        "    stop_words = set(stopwords.words('english'))\n",
        "    tokens = [token for token in tokens if token not in stop_words]\n",
        "\n",
        "    #Stemming\n",
        "    tokens = [stemmer.stem(token) for token in tokens]\n",
        "\n",
        "    #Reune os tokens em uma string\n",
        "    processed_text = ' '.join(tokens)\n",
        "\n",
        "    return processed_text"
      ]
    },
    {
      "cell_type": "code",
      "execution_count": 16,
      "metadata": {
        "id": "WVXlA5TOOqvI"
      },
      "outputs": [],
      "source": [
        "baseTreino['processed_text'] = baseTreino['Text'].apply(preprocess)"
      ]
    },
    {
      "cell_type": "code",
      "execution_count": 17,
      "metadata": {
        "colab": {
          "base_uri": "https://localhost:8080/",
          "height": 423
        },
        "id": "aard1J4wOqvJ",
        "outputId": "34fc02e1-1fb3-4745-99d3-9c82217427f3"
      },
      "outputs": [
        {
          "data": {
            "application/vnd.google.colaboratory.intrinsic+json": {
              "summary": "{\n  \"name\": \"baseTreino\",\n  \"rows\": 1554,\n  \"fields\": [\n    {\n      \"column\": \"Text\",\n      \"properties\": {\n        \"dtype\": \"string\",\n        \"num_unique_values\": 1549,\n        \"samples\": [\n          \"'CURRENCIES COULD INFLUENCE BULLION AGAIN-MONTAGU Currency fluctuations may reassert their\\\\ninfluence on the bullion market in the near future, bullion\\\\nbankers Samuel Montagu and Co Ltd said in a market report.\\\\n    But the firm said silver may lag behind gold in any\\\\nreactions to movements on foreign exchanges.\\\\n    \\\\\\\"OPEC\\\\'s failure to address the recent decline in oil prices\\\\nremains a worrying factor however, and on balance it appears\\\\nthat the market should be approached cautiously,\\\\\\\" Montagu said.\\\\n    The bank said the US economy has shown no noticeable\\\\nlong-term improvement and that both Latin American debt and the\\\\nIranian arms affair could undermine confidence in the dollar.\\\\n Reuter\\\\n&#3.'\",\n          \"'FRENCH EXPORTERS SEE HIGHER WHEAT SALES TO CHINA French exporters estimated that around\\\\n600,000 tonnes of French soft wheat has been sold to China for\\\\ndelivery in the 1986/87 (July/June) year.\\\\n    Around 300,000 tonnes were exported to China between July\\\\n1986 and February this year.\\\\n    Another 100,000 to 150,000 tonnes will be shipped during\\\\nthis month and around the same amount in April, they said.\\\\n    France sold around 250,000 tonnes of soft wheat to China in\\\\n1985/86, according to customs figures.\\\\n    However, certain exporters fear China may renounce part of\\\\nits contract with France after being offered one mln tonnes of\\\\nU.S. soft wheat under the Export Enhancement Program in January\\\\nand making some purchases under the initiative.\\\\n Reuter\\\\n&#3.'\",\n          \"'FED\\\\'S JOHNSON STRESSES PRICE STABILITY Federal Reserve Board Vice Chairman\\\\nManuel Johnson said that maintaining price stability was\\\\ncritical to achieving non-inflationary economic growth in the\\\\nworld and said that progress was being made.\\\\n    \\\\\\\"It is worth reiterating that the Federal Reserve\\\\'s\\\\npromotion of price stability is critical to the successful\\\\nimplementation of virtually all of the important ingredients\\\\nfor growth,\\\\\\\" he told the Eastern Economic Association.\\\\n    Johnson said initial progress has been made on a variety of\\\\nfronts. \\\\\\\"Federal Reserve monetary policy, the\\\\nGramm-Rudman-Hollings legislation, the G-6 agreement, and the\\\\nBaker debt initiative for example all have moved us in the\\\\nright direction,\\\\\\\" he said. G-6 is comprised of U.S., Britain,\\\\nFrance, Japan, West Germany and Canada.\\\\n    On the budget deficit, Johnson said meeting precise\\\\nnumerical goals was less important than a continuing commitment\\\\ntoward slowing the growth of federal spending.\\\\n    There was evidence deficits as a pct of Gross National\\\\nProduct were declining and would continue to drop, he said.\\\\n    But Johnson warned against reliance on inflow of foreign\\\\ncapital to finance investment and the budget deficit and keep\\\\ninterest rates stable.\\\\n    \\\\\\\"This situation, however, cannot continue indefinitely.\\\\nSooner or later progress must be made in controlling excessive\\\\nfederal spending,\\\\\\\" he said.\\\\n    A disinflationary monetary policy should continue to be the\\\\nmain objective of the Fed, Johnson said.\\\\n    He also said a more stable and sustainable alignment of\\\\nexchange rates was needed for long-term growth.\\\\n    On the trade deficit, Johnson warned against \\\\\\\"quick fix\\\\\\\"\\\\nsolutions, which he identified as excessive dollar depreciation\\\\nor protectionist trade legislation.\\\\n    \\\\\\\"What is important is that we attempt to maintain healthy\\\\nreturns to capital and adopt policies encouraging genuine\\\\neconomic growth,\\\\\\\" he said.\\\\n    Such an approach would finance the trade deficit but allow\\\\nfor its gradual resolution over time.\\\\n Reuter\\\\n&#3.'\"\n        ],\n        \"semantic_type\": \"\",\n        \"description\": \"\"\n      }\n    },\n    {\n      \"column\": \"class-att\",\n      \"properties\": {\n        \"dtype\": \"number\",\n        \"std\": 0,\n        \"min\": 0,\n        \"max\": 1,\n        \"num_unique_values\": 2,\n        \"samples\": [\n          1,\n          0\n        ],\n        \"semantic_type\": \"\",\n        \"description\": \"\"\n      }\n    },\n    {\n      \"column\": \"processed_text\",\n      \"properties\": {\n        \"dtype\": \"string\",\n        \"num_unique_values\": 1549,\n        \"samples\": [\n          \"'currenc could influenc bullion again-montagu currenc fluctuat may reassert their\\\\ninflu bullion market near futur , bullion\\\\nbank samuel montagu co ltd said market report.\\\\n firm said silver may lag behind gold any\\\\nreact movement foreign exchanges.\\\\n \\\\ '' opec\\\\ 's failur address recent declin oil prices\\\\nremain worri factor howev , balanc appears\\\\nthat market approach cautious , \\\\ '' montagu said.\\\\n bank said us economi shown noticeable\\\\nlong-term improv latin american debt the\\\\niranian arm affair could undermin confid dollar.\\\\n reuter\\\\n & # 3 . '\",\n          \"'french export see higher wheat sale china french export estim around\\\\n600,000 tonn french soft wheat sold china for\\\\ndeliveri 1986/87 ( july/jun ) year.\\\\n around 300,000 tonn export china july\\\\n1986 februari year.\\\\n anoth 100,000 150,000 tonn ship during\\\\nthi month around amount april , said.\\\\n franc sold around 250,000 tonn soft wheat china in\\\\n1985/86 , accord custom figures.\\\\n howev , certain export fear china may renounc part of\\\\nit contract franc offer one mln tonn of\\\\nu. . soft wheat export enhanc program january\\\\nand make purchas initiative.\\\\n reuter\\\\n & # 3 . '\"\n        ],\n        \"semantic_type\": \"\",\n        \"description\": \"\"\n      }\n    }\n  ]\n}",
              "type": "dataframe",
              "variable_name": "baseTreino"
            },
            "text/html": [
              "\n",
              "  <div id=\"df-50509c74-38b5-4c04-9cd0-4d86cac6fd52\" class=\"colab-df-container\">\n",
              "    <div>\n",
              "<style scoped>\n",
              "    .dataframe tbody tr th:only-of-type {\n",
              "        vertical-align: middle;\n",
              "    }\n",
              "\n",
              "    .dataframe tbody tr th {\n",
              "        vertical-align: top;\n",
              "    }\n",
              "\n",
              "    .dataframe thead th {\n",
              "        text-align: right;\n",
              "    }\n",
              "</style>\n",
              "<table border=\"1\" class=\"dataframe\">\n",
              "  <thead>\n",
              "    <tr style=\"text-align: right;\">\n",
              "      <th></th>\n",
              "      <th>Text</th>\n",
              "      <th>class-att</th>\n",
              "      <th>processed_text</th>\n",
              "    </tr>\n",
              "  </thead>\n",
              "  <tbody>\n",
              "    <tr>\n",
              "      <th>0</th>\n",
              "      <td>'BAHIA COCOA REVIEW Showers continued througho...</td>\n",
              "      <td>0</td>\n",
              "      <td>'bahia cocoa review shower continu throughout ...</td>\n",
              "    </tr>\n",
              "    <tr>\n",
              "      <th>1</th>\n",
              "      <td>'NATIONAL AVERAGE PRICES FOR FARMER-OWNED RESE...</td>\n",
              "      <td>1</td>\n",
              "      <td>'nation averag price farmer-own reserv u.s. ag...</td>\n",
              "    </tr>\n",
              "    <tr>\n",
              "      <th>2</th>\n",
              "      <td>'ARGENTINE 1986/87 GRAIN/OILSEED REGISTRATIONS...</td>\n",
              "      <td>1</td>\n",
              "      <td>'argentin 1986/87 grain/oilse registr argentin...</td>\n",
              "    </tr>\n",
              "    <tr>\n",
              "      <th>3</th>\n",
              "      <td>'CHAMPION PRODUCTS &amp;lt.CH&gt; APPROVES STOCK SPLI...</td>\n",
              "      <td>0</td>\n",
              "      <td>'champion product &amp; lt.ch &gt; approv stock split...</td>\n",
              "    </tr>\n",
              "    <tr>\n",
              "      <th>4</th>\n",
              "      <td>'COMPUTER TERMINAL SYSTEMS &amp;lt.CPML&gt; COMPLETES...</td>\n",
              "      <td>0</td>\n",
              "      <td>'comput termin system &amp; lt.cpml &gt; complet sale...</td>\n",
              "    </tr>\n",
              "    <tr>\n",
              "      <th>...</th>\n",
              "      <td>...</td>\n",
              "      <td>...</td>\n",
              "      <td>...</td>\n",
              "    </tr>\n",
              "    <tr>\n",
              "      <th>1549</th>\n",
              "      <td>'METEX CORP &amp;lt.MTX&gt; 4TH QTR DEC 28 Shr 22 cts...</td>\n",
              "      <td>0</td>\n",
              "      <td>'metex corp &amp; lt.mtx &gt; 4th qtr dec 28 shr 22 c...</td>\n",
              "    </tr>\n",
              "    <tr>\n",
              "      <th>1550</th>\n",
              "      <td>'HOUSTON OIL TRUST &amp;lt.HO&gt; OMITS MARCH DISTRIB...</td>\n",
              "      <td>0</td>\n",
              "      <td>'houston oil trust &amp; lt.ho &gt; omit march distri...</td>\n",
              "    </tr>\n",
              "    <tr>\n",
              "      <th>1551</th>\n",
              "      <td>'MONOCLONAL ANTIBODIES &amp;lt.MABS&gt; BUYS COMPANY ...</td>\n",
              "      <td>0</td>\n",
              "      <td>'monoclon antibodi &amp; lt.mab &gt; buy compani mono...</td>\n",
              "    </tr>\n",
              "    <tr>\n",
              "      <th>1552</th>\n",
              "      <td>'U.S. TREASURY PROPOSES SOME S. AFRICAN IMPORT...</td>\n",
              "      <td>0</td>\n",
              "      <td>' u. . treasuri propos s. african import treas...</td>\n",
              "    </tr>\n",
              "    <tr>\n",
              "      <th>1553</th>\n",
              "      <td>'BRANIFF INC &amp;lt.BAIR&gt; 4TH QTR LOSS JAN 31 Shr...</td>\n",
              "      <td>0</td>\n",
              "      <td>'braniff inc &amp; lt.bair &gt; 4th qtr loss jan 31 s...</td>\n",
              "    </tr>\n",
              "  </tbody>\n",
              "</table>\n",
              "<p>1554 rows × 3 columns</p>\n",
              "</div>\n",
              "    <div class=\"colab-df-buttons\">\n",
              "\n",
              "  <div class=\"colab-df-container\">\n",
              "    <button class=\"colab-df-convert\" onclick=\"convertToInteractive('df-50509c74-38b5-4c04-9cd0-4d86cac6fd52')\"\n",
              "            title=\"Convert this dataframe to an interactive table.\"\n",
              "            style=\"display:none;\">\n",
              "\n",
              "  <svg xmlns=\"http://www.w3.org/2000/svg\" height=\"24px\" viewBox=\"0 -960 960 960\">\n",
              "    <path d=\"M120-120v-720h720v720H120Zm60-500h600v-160H180v160Zm220 220h160v-160H400v160Zm0 220h160v-160H400v160ZM180-400h160v-160H180v160Zm440 0h160v-160H620v160ZM180-180h160v-160H180v160Zm440 0h160v-160H620v160Z\"/>\n",
              "  </svg>\n",
              "    </button>\n",
              "\n",
              "  <style>\n",
              "    .colab-df-container {\n",
              "      display:flex;\n",
              "      gap: 12px;\n",
              "    }\n",
              "\n",
              "    .colab-df-convert {\n",
              "      background-color: #E8F0FE;\n",
              "      border: none;\n",
              "      border-radius: 50%;\n",
              "      cursor: pointer;\n",
              "      display: none;\n",
              "      fill: #1967D2;\n",
              "      height: 32px;\n",
              "      padding: 0 0 0 0;\n",
              "      width: 32px;\n",
              "    }\n",
              "\n",
              "    .colab-df-convert:hover {\n",
              "      background-color: #E2EBFA;\n",
              "      box-shadow: 0px 1px 2px rgba(60, 64, 67, 0.3), 0px 1px 3px 1px rgba(60, 64, 67, 0.15);\n",
              "      fill: #174EA6;\n",
              "    }\n",
              "\n",
              "    .colab-df-buttons div {\n",
              "      margin-bottom: 4px;\n",
              "    }\n",
              "\n",
              "    [theme=dark] .colab-df-convert {\n",
              "      background-color: #3B4455;\n",
              "      fill: #D2E3FC;\n",
              "    }\n",
              "\n",
              "    [theme=dark] .colab-df-convert:hover {\n",
              "      background-color: #434B5C;\n",
              "      box-shadow: 0px 1px 3px 1px rgba(0, 0, 0, 0.15);\n",
              "      filter: drop-shadow(0px 1px 2px rgba(0, 0, 0, 0.3));\n",
              "      fill: #FFFFFF;\n",
              "    }\n",
              "  </style>\n",
              "\n",
              "    <script>\n",
              "      const buttonEl =\n",
              "        document.querySelector('#df-50509c74-38b5-4c04-9cd0-4d86cac6fd52 button.colab-df-convert');\n",
              "      buttonEl.style.display =\n",
              "        google.colab.kernel.accessAllowed ? 'block' : 'none';\n",
              "\n",
              "      async function convertToInteractive(key) {\n",
              "        const element = document.querySelector('#df-50509c74-38b5-4c04-9cd0-4d86cac6fd52');\n",
              "        const dataTable =\n",
              "          await google.colab.kernel.invokeFunction('convertToInteractive',\n",
              "                                                    [key], {});\n",
              "        if (!dataTable) return;\n",
              "\n",
              "        const docLinkHtml = 'Like what you see? Visit the ' +\n",
              "          '<a target=\"_blank\" href=https://colab.research.google.com/notebooks/data_table.ipynb>data table notebook</a>'\n",
              "          + ' to learn more about interactive tables.';\n",
              "        element.innerHTML = '';\n",
              "        dataTable['output_type'] = 'display_data';\n",
              "        await google.colab.output.renderOutput(dataTable, element);\n",
              "        const docLink = document.createElement('div');\n",
              "        docLink.innerHTML = docLinkHtml;\n",
              "        element.appendChild(docLink);\n",
              "      }\n",
              "    </script>\n",
              "  </div>\n",
              "\n",
              "\n",
              "<div id=\"df-ddd16455-b3b5-4615-941f-537b517023e1\">\n",
              "  <button class=\"colab-df-quickchart\" onclick=\"quickchart('df-ddd16455-b3b5-4615-941f-537b517023e1')\"\n",
              "            title=\"Suggest charts\"\n",
              "            style=\"display:none;\">\n",
              "\n",
              "<svg xmlns=\"http://www.w3.org/2000/svg\" height=\"24px\"viewBox=\"0 0 24 24\"\n",
              "     width=\"24px\">\n",
              "    <g>\n",
              "        <path d=\"M19 3H5c-1.1 0-2 .9-2 2v14c0 1.1.9 2 2 2h14c1.1 0 2-.9 2-2V5c0-1.1-.9-2-2-2zM9 17H7v-7h2v7zm4 0h-2V7h2v10zm4 0h-2v-4h2v4z\"/>\n",
              "    </g>\n",
              "</svg>\n",
              "  </button>\n",
              "\n",
              "<style>\n",
              "  .colab-df-quickchart {\n",
              "      --bg-color: #E8F0FE;\n",
              "      --fill-color: #1967D2;\n",
              "      --hover-bg-color: #E2EBFA;\n",
              "      --hover-fill-color: #174EA6;\n",
              "      --disabled-fill-color: #AAA;\n",
              "      --disabled-bg-color: #DDD;\n",
              "  }\n",
              "\n",
              "  [theme=dark] .colab-df-quickchart {\n",
              "      --bg-color: #3B4455;\n",
              "      --fill-color: #D2E3FC;\n",
              "      --hover-bg-color: #434B5C;\n",
              "      --hover-fill-color: #FFFFFF;\n",
              "      --disabled-bg-color: #3B4455;\n",
              "      --disabled-fill-color: #666;\n",
              "  }\n",
              "\n",
              "  .colab-df-quickchart {\n",
              "    background-color: var(--bg-color);\n",
              "    border: none;\n",
              "    border-radius: 50%;\n",
              "    cursor: pointer;\n",
              "    display: none;\n",
              "    fill: var(--fill-color);\n",
              "    height: 32px;\n",
              "    padding: 0;\n",
              "    width: 32px;\n",
              "  }\n",
              "\n",
              "  .colab-df-quickchart:hover {\n",
              "    background-color: var(--hover-bg-color);\n",
              "    box-shadow: 0 1px 2px rgba(60, 64, 67, 0.3), 0 1px 3px 1px rgba(60, 64, 67, 0.15);\n",
              "    fill: var(--button-hover-fill-color);\n",
              "  }\n",
              "\n",
              "  .colab-df-quickchart-complete:disabled,\n",
              "  .colab-df-quickchart-complete:disabled:hover {\n",
              "    background-color: var(--disabled-bg-color);\n",
              "    fill: var(--disabled-fill-color);\n",
              "    box-shadow: none;\n",
              "  }\n",
              "\n",
              "  .colab-df-spinner {\n",
              "    border: 2px solid var(--fill-color);\n",
              "    border-color: transparent;\n",
              "    border-bottom-color: var(--fill-color);\n",
              "    animation:\n",
              "      spin 1s steps(1) infinite;\n",
              "  }\n",
              "\n",
              "  @keyframes spin {\n",
              "    0% {\n",
              "      border-color: transparent;\n",
              "      border-bottom-color: var(--fill-color);\n",
              "      border-left-color: var(--fill-color);\n",
              "    }\n",
              "    20% {\n",
              "      border-color: transparent;\n",
              "      border-left-color: var(--fill-color);\n",
              "      border-top-color: var(--fill-color);\n",
              "    }\n",
              "    30% {\n",
              "      border-color: transparent;\n",
              "      border-left-color: var(--fill-color);\n",
              "      border-top-color: var(--fill-color);\n",
              "      border-right-color: var(--fill-color);\n",
              "    }\n",
              "    40% {\n",
              "      border-color: transparent;\n",
              "      border-right-color: var(--fill-color);\n",
              "      border-top-color: var(--fill-color);\n",
              "    }\n",
              "    60% {\n",
              "      border-color: transparent;\n",
              "      border-right-color: var(--fill-color);\n",
              "    }\n",
              "    80% {\n",
              "      border-color: transparent;\n",
              "      border-right-color: var(--fill-color);\n",
              "      border-bottom-color: var(--fill-color);\n",
              "    }\n",
              "    90% {\n",
              "      border-color: transparent;\n",
              "      border-bottom-color: var(--fill-color);\n",
              "    }\n",
              "  }\n",
              "</style>\n",
              "\n",
              "  <script>\n",
              "    async function quickchart(key) {\n",
              "      const quickchartButtonEl =\n",
              "        document.querySelector('#' + key + ' button');\n",
              "      quickchartButtonEl.disabled = true;  // To prevent multiple clicks.\n",
              "      quickchartButtonEl.classList.add('colab-df-spinner');\n",
              "      try {\n",
              "        const charts = await google.colab.kernel.invokeFunction(\n",
              "            'suggestCharts', [key], {});\n",
              "      } catch (error) {\n",
              "        console.error('Error during call to suggestCharts:', error);\n",
              "      }\n",
              "      quickchartButtonEl.classList.remove('colab-df-spinner');\n",
              "      quickchartButtonEl.classList.add('colab-df-quickchart-complete');\n",
              "    }\n",
              "    (() => {\n",
              "      let quickchartButtonEl =\n",
              "        document.querySelector('#df-ddd16455-b3b5-4615-941f-537b517023e1 button');\n",
              "      quickchartButtonEl.style.display =\n",
              "        google.colab.kernel.accessAllowed ? 'block' : 'none';\n",
              "    })();\n",
              "  </script>\n",
              "</div>\n",
              "\n",
              "  <div id=\"id_65aad0c9-0f32-4ec7-81bd-5f07d2af8830\">\n",
              "    <style>\n",
              "      .colab-df-generate {\n",
              "        background-color: #E8F0FE;\n",
              "        border: none;\n",
              "        border-radius: 50%;\n",
              "        cursor: pointer;\n",
              "        display: none;\n",
              "        fill: #1967D2;\n",
              "        height: 32px;\n",
              "        padding: 0 0 0 0;\n",
              "        width: 32px;\n",
              "      }\n",
              "\n",
              "      .colab-df-generate:hover {\n",
              "        background-color: #E2EBFA;\n",
              "        box-shadow: 0px 1px 2px rgba(60, 64, 67, 0.3), 0px 1px 3px 1px rgba(60, 64, 67, 0.15);\n",
              "        fill: #174EA6;\n",
              "      }\n",
              "\n",
              "      [theme=dark] .colab-df-generate {\n",
              "        background-color: #3B4455;\n",
              "        fill: #D2E3FC;\n",
              "      }\n",
              "\n",
              "      [theme=dark] .colab-df-generate:hover {\n",
              "        background-color: #434B5C;\n",
              "        box-shadow: 0px 1px 3px 1px rgba(0, 0, 0, 0.15);\n",
              "        filter: drop-shadow(0px 1px 2px rgba(0, 0, 0, 0.3));\n",
              "        fill: #FFFFFF;\n",
              "      }\n",
              "    </style>\n",
              "    <button class=\"colab-df-generate\" onclick=\"generateWithVariable('baseTreino')\"\n",
              "            title=\"Generate code using this dataframe.\"\n",
              "            style=\"display:none;\">\n",
              "\n",
              "  <svg xmlns=\"http://www.w3.org/2000/svg\" height=\"24px\"viewBox=\"0 0 24 24\"\n",
              "       width=\"24px\">\n",
              "    <path d=\"M7,19H8.4L18.45,9,17,7.55,7,17.6ZM5,21V16.75L18.45,3.32a2,2,0,0,1,2.83,0l1.4,1.43a1.91,1.91,0,0,1,.58,1.4,1.91,1.91,0,0,1-.58,1.4L9.25,21ZM18.45,9,17,7.55Zm-12,3A5.31,5.31,0,0,0,4.9,8.1,5.31,5.31,0,0,0,1,6.5,5.31,5.31,0,0,0,4.9,4.9,5.31,5.31,0,0,0,6.5,1,5.31,5.31,0,0,0,8.1,4.9,5.31,5.31,0,0,0,12,6.5,5.46,5.46,0,0,0,6.5,12Z\"/>\n",
              "  </svg>\n",
              "    </button>\n",
              "    <script>\n",
              "      (() => {\n",
              "      const buttonEl =\n",
              "        document.querySelector('#id_65aad0c9-0f32-4ec7-81bd-5f07d2af8830 button.colab-df-generate');\n",
              "      buttonEl.style.display =\n",
              "        google.colab.kernel.accessAllowed ? 'block' : 'none';\n",
              "\n",
              "      buttonEl.onclick = () => {\n",
              "        google.colab.notebook.generateWithVariable('baseTreino');\n",
              "      }\n",
              "      })();\n",
              "    </script>\n",
              "  </div>\n",
              "\n",
              "    </div>\n",
              "  </div>\n"
            ],
            "text/plain": [
              "                                                   Text  class-att  \\\n",
              "0     'BAHIA COCOA REVIEW Showers continued througho...          0   \n",
              "1     'NATIONAL AVERAGE PRICES FOR FARMER-OWNED RESE...          1   \n",
              "2     'ARGENTINE 1986/87 GRAIN/OILSEED REGISTRATIONS...          1   \n",
              "3     'CHAMPION PRODUCTS &lt.CH> APPROVES STOCK SPLI...          0   \n",
              "4     'COMPUTER TERMINAL SYSTEMS &lt.CPML> COMPLETES...          0   \n",
              "...                                                 ...        ...   \n",
              "1549  'METEX CORP &lt.MTX> 4TH QTR DEC 28 Shr 22 cts...          0   \n",
              "1550  'HOUSTON OIL TRUST &lt.HO> OMITS MARCH DISTRIB...          0   \n",
              "1551  'MONOCLONAL ANTIBODIES &lt.MABS> BUYS COMPANY ...          0   \n",
              "1552  'U.S. TREASURY PROPOSES SOME S. AFRICAN IMPORT...          0   \n",
              "1553  'BRANIFF INC &lt.BAIR> 4TH QTR LOSS JAN 31 Shr...          0   \n",
              "\n",
              "                                         processed_text  \n",
              "0     'bahia cocoa review shower continu throughout ...  \n",
              "1     'nation averag price farmer-own reserv u.s. ag...  \n",
              "2     'argentin 1986/87 grain/oilse registr argentin...  \n",
              "3     'champion product & lt.ch > approv stock split...  \n",
              "4     'comput termin system & lt.cpml > complet sale...  \n",
              "...                                                 ...  \n",
              "1549  'metex corp & lt.mtx > 4th qtr dec 28 shr 22 c...  \n",
              "1550  'houston oil trust & lt.ho > omit march distri...  \n",
              "1551  'monoclon antibodi & lt.mab > buy compani mono...  \n",
              "1552  ' u. . treasuri propos s. african import treas...  \n",
              "1553  'braniff inc & lt.bair > 4th qtr loss jan 31 s...  \n",
              "\n",
              "[1554 rows x 3 columns]"
            ]
          },
          "execution_count": 17,
          "metadata": {},
          "output_type": "execute_result"
        }
      ],
      "source": [
        "baseTreino"
      ]
    },
    {
      "cell_type": "code",
      "execution_count": 18,
      "metadata": {
        "id": "pYSt_XU1OqvJ"
      },
      "outputs": [],
      "source": [
        "baseTeste['processed_text'] = baseTeste['Text'].apply(preprocess)"
      ]
    },
    {
      "cell_type": "code",
      "execution_count": 19,
      "metadata": {
        "colab": {
          "base_uri": "https://localhost:8080/",
          "height": 423
        },
        "id": "eHhICbHvOqvJ",
        "outputId": "46eb3e27-120e-48f4-a783-09f388a51567"
      },
      "outputs": [
        {
          "data": {
            "application/vnd.google.colaboratory.intrinsic+json": {
              "summary": "{\n  \"name\": \"baseTeste\",\n  \"rows\": 604,\n  \"fields\": [\n    {\n      \"column\": \"Text\",\n      \"properties\": {\n        \"dtype\": \"string\",\n        \"num_unique_values\": 602,\n        \"samples\": [\n          \"'SUN &ltSUN> CUTS HEATING OIL BARGE PRICE Sun Co\\\\'s Sun Refining and Marketing Co\\\\nsubsidiary said it is decreasing the price it charges contract\\\\nbarge customers for heating oil in ny harbor by 0.50 cent a\\\\ngallon, effective today.\\\\n    The 0.50 cent a gallon price reduction brings Sun\\\\'s heating\\\\noil contract barge price to 50 cts a gallon, the company said.\\\\n Reuter\\\\n&#3'\",\n          \"'GENERAL PARTNERS CUTS STAKE IN GENCORP &ltGY> General Partners told the Securities\\\\nand Exchange Commission it has reduced its stake in GenCorp Inc\\\\nto 8.6 pct, from 9.8 pct, by selling 250,000 shares at a price\\\\nequal to 118.5 dlrs per share.\\\\n    General Partners, which includes GC Holdings Inc and\\\\nGeneral Acquisitions Inc, said yesterday it was dropping its\\\\n100-dlr-a-share hostile takeover bid for GenCorp because of\\\\nGenCorp\\\\'s move to buy back its shares for up to 130 dlrs each.\\\\n Reuter\\\\n&#3'\",\n          \"'NET CHANGE IN EXPORT COMMITMENTS -- USDA The U.S. Agriculture Department gave\\\\nthe net change in export commitments, including sales,\\\\ncancellations, foreign purchases and cumulative exports, in the\\\\ncurrent seasons through the week ended April 2, with\\\\ncomparisons, as follows, in tonnes, except as noted --\\\\n                        4/2/87   Prev Week\\\\n            All Wheat   119,800    368,300\\\\n                 Corn 1,001,900    927,000\\\\n             Soybeans   240,500    300,900\\\\n         Soy Cake/Meal  117,700    170,200\\\\n          Soybean Oil     2,400-x    8,100\\\\n            Cotton-Y     60,200     31,900\\\\n   x-minus total. Y-running bales.\\\\n    The indicated totals include reported commitments to both\\\\nnamed and unnamed destinations, sales on exporters\\\\' own account\\\\nand optional origin sales plus actual exports already made\\\\nduring the respective marketing seasons.\\\\n    The USDA cautions that reported outstanding sales are\\\\nsubject to modification, deferral or cancellation and it is\\\\nunlikely that all reported quantities will be exported.\\\\n    USDA gave detailed breakdowns for the 1986/87 and 1987/88\\\\nseasons as follows, in thousand tonnes unless stated --\\\\n (A) - Firm sales to a declared destination.\\\\n (B) - Ultimate destination not yet declared.\\\\n (C) - Sales made on exporters\\\\' own account.\\\\n (D) - Exporter holds option to fill commitment with supplies \\\\nfrom origins other than U.S.\\\\n (E) - Accumulated exports since season began based on data \\\\nreported by exporters.\\\\n (F) - Indicated total for season.\\\\n (G) - USDA-projected exports for season.\\\\n Note -- Totals may not add due to rounding.\\\\n     ALL WHEAT\\\\n                1986/87             1987/88\\\\n             4/2/87   Prev Wk  4/3/87 Prev Wk\\\\n Named-A    3,157.6   3,684.1 1,591.4 1,635.6\\\\n Unnamed-B    143.8     144.3    87.1    57.1\\\\n E.O.A.-C       9.5       9.5     nil     nil\\\\n O.O.P.-D       nil       nil     nil     nil\\\\n Gr Total   3,310.9   3,837.9 1,679.0 1,692.7\\\\n Ay Expd-E 21,044.6  20,433.4\\\\n Ind Ttl-F 24,355.5  24,271.3\\\\n USDAPRJ-G 27,900.0  27,900.0\\\\n    SOYBEANS\\\\n                 1986/87            1987/88\\\\n             4/2/87   Prev Wk   4/2/87  Prev Wk\\\\n Named-A    1,774.7  1,780.3     215.9   215.9\\\\n Unnamed-B    500.3    524.8       nil    30.0\\\\n E.O.A.-C      18.4     18.4       nil     nil\\\\n O.O.P.-D       nil      nil       nil     nil\\\\n Gr Total   2,293.4  2,323.5     215.9   245.9\\\\n Ay Expd-E 14,334.2 14,183.2\\\\n Ind Ttl-F 16,627.6 16,506.7\\\\n USDAPRJ-G 19,050.0 19,050.0\\\\n    CORN\\\\n                1986/87             1987/88\\\\n            4/2/87    Prev Wk    4/2/87 Prev WK\\\\n Named-A    8,559.8   8,684.8    772.1   268.8\\\\n Unnamed-B    945.7     920.1      nil     nil\\\\n E.O.A-C       90.8      66.9      nil     nil\\\\n O.O.P-D      138.0     175.0      nil     nil\\\\n Gr Total   9,734.3   9,846.9    772.1   268.8\\\\n Ay Expd-E 20,296.0  19,293.8\\\\n Ind Ttl-F 30,030.3  29,140.7\\\\n USDAPRJ-G 31,750.0  31,750.0\\\\n    SORGHUM\\\\n                1986/87            1987/88\\\\n             4/2/87  Prev Wk    4/2/87 Prev WK\\\\n Named-A      875.6    805.1     nil      nil\\\\n Unnamed-B    151.2    151.2     10.2-x   nil\\\\n E.O.A-C        nil      nil     nil      nil\\\\n O.O.P-D      114.5    138.3     nil      nil\\\\n Gr Total   1,141.3  1,094.6     10.2-x   nil\\\\n Ay Expd-E  3,222.5  3,149.7\\\\n Ind Ttl-F  4,363.8  4,244.3\\\\n USDAPRJ-G  5,720.0  5,720.0\\\\n x-minus total \\\\n    WHEAT PRODUCTS\\\\n               1986/87            1987/88\\\\n            4/2/87  Prev Wk   4/2/87   Prev Wk\\\\n Named-A     321.0   401.9       nil    nil\\\\n Unnamed-B     nil     nil       nil    nil\\\\n E.O.A.-C      nil     nil       nil    nil\\\\n O.O.P.-D      nil     nil       nil    nil\\\\n Gr Total    321.0   401.9       nil    nil\\\\n Ay Expd-E   926.9   840.9\\\\n Ind Ttl-F 1,348.2 1,242.8\\\\n  Note - Includes bulgur, semolina, farina, rolled, cracked and\\\\ncrushed wheat.\\\\n    SOYBEAN OIL\\\\n               1986/87           1987/88\\\\n           4/2/87  Prev Wk    4/2/87  Prev Wk\\\\n Named-A      8.8    10.4      nil     nil\\\\n Unnamed-B    7.0    10.5      nil     nil\\\\n E.O.A-C      nil     nil      nil     nil\\\\n O.O.P-D      nil     nil      nil     nil\\\\n Gr Total    15.8    20.9      nil     nil\\\\n Ay Expd-E  138.4   135.8\\\\n Ind Ttl-F  154.2   156.7\\\\n USDAPRJ-G  610.0   610.0\\\\n    SOYBEAN CAKE AND MEAL\\\\n                1986/87             1987/88\\\\n             4/2/87  Prev Wk    4/2/87 Prev Wk\\\\n Named-A      788.0    869.7    50.7      48.4\\\\n Unnamed-B     76.0     94.0     nil       nil\\\\n E.O.A-C        2.7      6.1     nil       nil\\\\n O.O.P-D        nil      nil     nil       nil\\\\n Gr Total     866.7    969.8    50.7      48.4\\\\n Ay Expd-E  4,098.0  3,880.6\\\\n Ind Ttl-F  4,964.7  4,850.4\\\\n USDAPRJ-G  5,760.0  5,760.0\\\\n     COTTONSEED OIL\\\\n               1986/87            1987/88\\\\n            4/2/87  Prev Wk   4/2/87   Prev Wk\\\\n Named-A      7.4     7.2       nil     nil\\\\n Unnamed-B    0.3     0.3       nil     nil\\\\n E.O.A.-C     nil     nil       nil     nil\\\\n O.O.P.-D     7.8     7.8       nil     nil\\\\n Gr Total    15.4    15.2       nil     nil\\\\n    ALL UPLAND DOMESTIC RAW COTTON-Y\\\\n                1986/87            1987/88\\\\n            4/2/87    Prev Wk   4/2/87  Prev Wk\\\\n Named-A    2,007.9  2,076.1     468.2   457.2\\\\n Unnamed-B     20.3     20.2       nil     nil\\\\n E.O.A-C        nil      nil       nil     nil\\\\n O.O.P-C        nil      nil       nil     nil\\\\n Gr Total   2,028.2  2,096.3     468.2   457.2\\\\n Ay Expd-E  4,333.1  4,204.7\\\\n Ind Ttl-F  6,361.3  6,301.0\\\\n USDAPRJ-G  6,335.0  6,335.0\\\\n  Y-In thousand running bales.\\\\n    BARLEY\\\\n                 1986/87            1987/88\\\\n            4/2/87   Prev Wk     4/2/87 Prev Wk\\\\n Named-A      559.5    584.5      nil      nil\\\\n Unnamed-B     12.7     12.7      nil      nil\\\\n E.O.A.-C       nil      nil      nil      nil\\\\n O.O.P.-D      25.0     25.0      nil      nil\\\\n Gr Total     597.1    622.1      nil      nil\\\\n Ay Expt-E  2,464.6  2,440.7\\\\n Ind Ttl-F  3,061.7  3,062.8\\\\n USDAPRJ-G  3,270.0  3,270.0\\\\n    OATS\\\\n             1986/87            1987/88\\\\n           4/2/87 Prev Wk    4/2/87  Prev Wk\\\\n Named-A     nil    nil       nil    nil\\\\n Unnamed-B   nil    nil       nil    nil\\\\n E.O.A.-C    nil    nil       nil    nil\\\\n O.O.P.-D    nil    nil       nil    nil\\\\n Gr Total    nil    nil       nil    nil\\\\n Ay Expd-E   2.4    2.4\\\\n Ind Ttl-F   2.4    2.4\\\\n USDAPRJ-G  30.0   30.0\\\\n    RICE\\\\n                1986/87            1987/88\\\\n            4/2/87   Prev Wk    4/2/87  Prev Wk\\\\n Named-A      347.6    369.1      nil     nil\\\\n Unnamed-B      1.0      1.0      nil     nil\\\\n E.O.A-C        nil      nil      nil     nil\\\\n O.O.P-D        nil      nil      nil     nil\\\\n Gr Total     348.6    370.1      nil     nil\\\\n Ay Expd-E  1,718.8  1,688.2\\\\n Ind Ttl-F  2,067.4  2,058.3\\\\n USDAPRJ-G  2,580.0  2,580.0\\\\n    HARD RED WINTER WHEAT\\\\n               1986/87            1987/88\\\\n           4/2/87   Prev Wk     4/2/87  Prev Wk\\\\n Named-A   1,738.0  2,019.7     893.0   943.0\\\\n Unnamed-B    80.5     70.5     107.6    77.2\\\\n E.O.A.-C      nil      nil       nil     nil\\\\n O.O.P.-D      nil      nil       nil     nil\\\\n Gr Total  1,818.5  2,090.2   1,000.6 1,020.2\\\\n Ay Exp-E  8,332.1  7,974.5\\\\n Ind Tl-F 10,150.6 10,064.8\\\\n    WHITE WHEAT\\\\n               1986/87            1987/88\\\\n            4/2/87  Prev Wk    4/2/87   Prev Wk\\\\n Named-A     548.5    635.6     58.0    58.0\\\\n Unnamed-B    19.0-x   19.0-x    6.0-x   6.0-x\\\\n E.O.A.-C      nil      nil      nil     nil\\\\n O.O.P.-D      nil      nil      nil     nil\\\\n Gr Total    529.5    616.6     52.0    52.0\\\\n Ay Exp-E  3,831.5  3,757.7\\\\n Ind Tl-F  4,361.0  4,374.3\\\\n  x - denotes minus figure\\\\n    HARD RED SPRING WHEAT\\\\n              1986/87             1987/88\\\\n          4/2/87   Prev Wk    4/2/87   Prev Wk\\\\n Named-A    576.6    620.6    164.7   164.7\\\\n Unnamed-B   29.6     16.0      nil     nil\\\\n E.O.A.-C     0.9      0.9      nil     nil\\\\n O.O.P.-D     nil      nil      nil     nil\\\\n Gr Total   607.1    637.5    164.7   164.7\\\\n Ay Exp-E 4,312.4  4,247.6\\\\n Ind Tl-F 4,919.5  4,885.1\\\\n     DURUM WHEAT\\\\n              1986/87              1987/88\\\\n           4/2/87   Prev Wk    4/2/87  Prev Wk\\\\n Named-A    166.6    280.3      93.4   93.4\\\\n Unnamed-B   52.8     76.9       nil    nil\\\\n E.O.A.-C     2.8      2.8       nil    nil\\\\n O.O.P.-D     nil      nil       nil    nil\\\\n Gr Total   222.2    360.0      93.4   93.4\\\\n Ay Exp-E 1,842.6  1,727.5\\\\n Ind Tl-F 2,064.8  2,087.5\\\\n    SOFT RED WINTER WHEAT\\\\n               1986/87             1987/88\\\\n            4/2/87  Prev Wk     4/2/87  Prev Wk\\\\n Named-A     127.8    127.8    382.3   376.5\\\\n Unnamed-B     nil      nil     14.0-x  14.0-x\\\\n E.O.A.-C      5.8      5.8      nil     nil\\\\n O.O.P.-D      nil      nil      nil     nil\\\\n Gr Total    133.6    133.6    368.3   362.5\\\\n Ay Exp-E  2,726.0  2,726.0\\\\n Ind Tl-F  2,859.6  2,859.6\\\\n x-minus figure\\\\n    Country and destinations of the identified sales of\\\\ncommodities reported by exporters in week ended April 2 for\\\\nthe respective marketing seasons were detailed by the USDA as\\\\nfollows, with comparisons for the previous week, in thousands\\\\nof tonnes, except where noted-- \\\\n ALL WHEAT  \\\\n               1986/87             1987/88\\\\n             4/2/87  Prev Wk   4/2/87   Prev Wk\\\\n E.C.          nil     nil      50.0    50.0\\\\n Other West\\\\n Europe      218.8   236.8       nil     nil\\\\n East Europe 261.0   346.0      25.0    25.0\\\\n    ALL WHEAT Continued\\\\n                 1986/87            1987/88\\\\n             4/2/87  Prev Wk    4/2/87  Prev Wk\\\\n USSR           nil      nil      nil     nil\\\\n Japan        490.4    662.2      nil     nil\\\\n China         90.0     90.0    910.0   910.0\\\\n Taiwan       115.0    141.0    144.0   144.0\\\\n Other Asia and\\\\n Oceania      654.9    730.9     28.6    78.6\\\\n Africa       959.5  1,115.0    167.1   167.1\\\\n Western\\\\n Hemisphere   367.9    362.1    266.7   260.9\\\\n SOYBEANS        1986/87            1987/88\\\\n            4/2/87   Prev Wk   4/2/87   Prev Wk\\\\n E.C.        302.2     317.7    91.4     91.4\\\\n Other West\\\\n Europe       25.0      25.0     nil      nil\\\\n East Europe 101.0     101.0     nil      nil\\\\n Japan       355.4     330.5     nil      nil\\\\n China         nil       nil     nil      nil\\\\n Taiwan      472.0     499.0    87.0     87.0\\\\n Other Asia and\\\\n Oceania     164.6     187.7     nil      nil\\\\n Africa        nil       nil     nil      nil\\\\n Western\\\\n Hemisphere  354.4     391.5     37.5    37.5\\\\n    SOYBEAN OIL\\\\n             1986/87           1987/88\\\\n          4/2/87  Prev Wk    4/2/87  Prev Wk\\\\n E.C.        1.5     1.5      nil     nil\\\\n India       nil     nil      nil     nil\\\\n Other Asia and\\\\n Oceania     nil     nil      nil     nil\\\\n Africa      nil     nil      nil     nil\\\\n Western\\\\n Hemisphere  7.3     8.9      nil     nil\\\\n    SOYBEAN CAKE/MEAL\\\\n                 1986/87            1987/88\\\\n            4/2/87   Prev Wk   4/2/87   Prev Wk\\\\n E.C.        301.7   350.7     47.2   45.0\\\\n Other West\\\\n Europe        nil     nil      nil    nil\\\\n East Europe   nil    36.0      nil    nil\\\\n Japan         nil     3.5      nil    nil\\\\n Other Asia and\\\\n Oceania      25.0    40.0      nil    nil\\\\n Africa       30.2    38.0      nil    nil\\\\n Western\\\\n Hemisphere  431.0   401.5      3.4    3.4\\\\n    CORN         1986/87            1987/88\\\\n              4/2/87   Prev Wk   4/2/87  Prev Wk\\\\n E.C.           82.5     22.5       0.2     0.2\\\\n Other West\\\\n Europe          nil      0.8       nil     nil\\\\n E. Europe      94.0     50.0      50.0    50.0\\\\n USSR        2,432.7  2,543.8       nil     nil\\\\n Japan       2,767.4  2,787.8      52.4    21.0\\\\n China         495.0    555.0       nil     nil\\\\n Taiwan        791.0    836.0     390.0   170.0\\\\n Other Asia and\\\\n Oceania       721.7    615.2     250.0     nil\\\\n Africa        125.0    195.5       nil     nil\\\\n WestHem     1,050.5  1,114.0      29.4    27.6\\\\n    UPLAND COTTON (In thousand bales)\\\\n               1986/87             1987/88\\\\n            4/2/87  Prev Wk     4/2/87 Prev Wk\\\\n E.C.        260.9    266.1     97.9    95.0\\\\n Other West\\\\n Europe       62.2     66.2      8.7     8.7\\\\n E. Europe     3.1      3.1      nil     nil\\\\n Japan       445.8    484.1     72.3    70.1\\\\n Taiwan      377.9    390.4     41.6    39.5\\\\n Other Asia and\\\\n Oceania     741.7    783.4    244.5   241.1\\\\n Africa       16.7     13.4      nil     nil\\\\n Western\\\\n Hemisphere   99.6     69.5      3.2     2.7\\\\n Reuter\\\\n&#3'\"\n        ],\n        \"semantic_type\": \"\",\n        \"description\": \"\"\n      }\n    },\n    {\n      \"column\": \"class-att\",\n      \"properties\": {\n        \"dtype\": \"number\",\n        \"std\": 0,\n        \"min\": 0,\n        \"max\": 1,\n        \"num_unique_values\": 2,\n        \"samples\": [\n          1,\n          0\n        ],\n        \"semantic_type\": \"\",\n        \"description\": \"\"\n      }\n    },\n    {\n      \"column\": \"processed_text\",\n      \"properties\": {\n        \"dtype\": \"string\",\n        \"num_unique_values\": 602,\n        \"samples\": [\n          \"'sun & ltsun > cut heat oil barg price sun co\\\\ 's sun refin market co\\\\nsubsidiari said decreas price charg contract\\\\nbarg custom heat oil ny harbor 0.50 cent a\\\\ngallon , effect today.\\\\n 0.50 cent gallon price reduct bring sun\\\\ 's heating\\\\noil contract barg price 50 ct gallon , compani said.\\\\n reuter\\\\n & # 3 '\",\n          \"'gener partner cut stake gencorp & ltgi > gener partner told securities\\\\nand exchang commiss reduc stake gencorp inc\\\\nto 8.6 pct , 9.8 pct , sell 250,000 share price\\\\nequ 118.5 dlr per share.\\\\n gener partner , includ gc hold inc and\\\\ngener acquisit inc , said yesterday drop its\\\\n100-dlr-a-shar hostil takeov bid gencorp of\\\\ngencorp\\\\ 's move buy back share 130 dlr each.\\\\n reuter\\\\n & # 3 '\"\n        ],\n        \"semantic_type\": \"\",\n        \"description\": \"\"\n      }\n    }\n  ]\n}",
              "type": "dataframe",
              "variable_name": "baseTeste"
            },
            "text/html": [
              "\n",
              "  <div id=\"df-628207ec-19d1-4161-9057-d558151e2126\" class=\"colab-df-container\">\n",
              "    <div>\n",
              "<style scoped>\n",
              "    .dataframe tbody tr th:only-of-type {\n",
              "        vertical-align: middle;\n",
              "    }\n",
              "\n",
              "    .dataframe tbody tr th {\n",
              "        vertical-align: top;\n",
              "    }\n",
              "\n",
              "    .dataframe thead th {\n",
              "        text-align: right;\n",
              "    }\n",
              "</style>\n",
              "<table border=\"1\" class=\"dataframe\">\n",
              "  <thead>\n",
              "    <tr style=\"text-align: right;\">\n",
              "      <th></th>\n",
              "      <th>Text</th>\n",
              "      <th>class-att</th>\n",
              "      <th>processed_text</th>\n",
              "    </tr>\n",
              "  </thead>\n",
              "  <tbody>\n",
              "    <tr>\n",
              "      <th>0</th>\n",
              "      <td>'ASIAN EXPORTERS FEAR DAMAGE FROM U.S.-JAPAN R...</td>\n",
              "      <td>0</td>\n",
              "      <td>'asian export fear damag u.s.-japan rift mount...</td>\n",
              "    </tr>\n",
              "    <tr>\n",
              "      <th>1</th>\n",
              "      <td>'CHINA DAILY SAYS VERMIN EAT 7-12 PCT GRAIN ST...</td>\n",
              "      <td>1</td>\n",
              "      <td>'china daili say vermin eat 7-12 pct grain sto...</td>\n",
              "    </tr>\n",
              "    <tr>\n",
              "      <th>2</th>\n",
              "      <td>'JAPAN TO REVISE LONG-TERM ENERGY DEMAND DOWNW...</td>\n",
              "      <td>0</td>\n",
              "      <td>'japan revis long-term energi demand downward ...</td>\n",
              "    </tr>\n",
              "    <tr>\n",
              "      <th>3</th>\n",
              "      <td>'THAI TRADE DEFICIT WIDENS IN FIRST QUARTER Th...</td>\n",
              "      <td>1</td>\n",
              "      <td>'thai trade deficit widen first quarter thaila...</td>\n",
              "    </tr>\n",
              "    <tr>\n",
              "      <th>4</th>\n",
              "      <td>'INDONESIA SEES CPO PRICE RISING SHARPLY Indon...</td>\n",
              "      <td>0</td>\n",
              "      <td>'indonesia see cpo price rise sharpli indonesi...</td>\n",
              "    </tr>\n",
              "    <tr>\n",
              "      <th>...</th>\n",
              "      <td>...</td>\n",
              "      <td>...</td>\n",
              "      <td>...</td>\n",
              "    </tr>\n",
              "    <tr>\n",
              "      <th>599</th>\n",
              "      <td>'CORN SUPPLY/DEMAND BY COUNTRY -- USDA The U.S...</td>\n",
              "      <td>1</td>\n",
              "      <td>'corn supply/demand countri -- usda u.s. agric...</td>\n",
              "    </tr>\n",
              "    <tr>\n",
              "      <th>600</th>\n",
              "      <td>'USDA REPORTS EXPORT SALES ACTIVITY The U.S. A...</td>\n",
              "      <td>1</td>\n",
              "      <td>'usda report export sale activ u.s. agricultur...</td>\n",
              "    </tr>\n",
              "    <tr>\n",
              "      <th>601</th>\n",
              "      <td>'INTERNATIONAL AMERICAN &amp;ltHOME&gt; TO ACQUIRE CO...</td>\n",
              "      <td>0</td>\n",
              "      <td>'intern american &amp; lthome &gt; acquir co intern a...</td>\n",
              "    </tr>\n",
              "    <tr>\n",
              "      <th>602</th>\n",
              "      <td>'SONY CHAIRMAN FORECASTS LOWER PROFITS THIS YE...</td>\n",
              "      <td>0</td>\n",
              "      <td>'soni chairman forecast lower profit year soni...</td>\n",
              "    </tr>\n",
              "    <tr>\n",
              "      <th>603</th>\n",
              "      <td>'COARSE GRAIN SUPPLY/DEMAND BY COUNTRY -- USDA...</td>\n",
              "      <td>1</td>\n",
              "      <td>'coars grain supply/demand countri -- usda u.s...</td>\n",
              "    </tr>\n",
              "  </tbody>\n",
              "</table>\n",
              "<p>604 rows × 3 columns</p>\n",
              "</div>\n",
              "    <div class=\"colab-df-buttons\">\n",
              "\n",
              "  <div class=\"colab-df-container\">\n",
              "    <button class=\"colab-df-convert\" onclick=\"convertToInteractive('df-628207ec-19d1-4161-9057-d558151e2126')\"\n",
              "            title=\"Convert this dataframe to an interactive table.\"\n",
              "            style=\"display:none;\">\n",
              "\n",
              "  <svg xmlns=\"http://www.w3.org/2000/svg\" height=\"24px\" viewBox=\"0 -960 960 960\">\n",
              "    <path d=\"M120-120v-720h720v720H120Zm60-500h600v-160H180v160Zm220 220h160v-160H400v160Zm0 220h160v-160H400v160ZM180-400h160v-160H180v160Zm440 0h160v-160H620v160ZM180-180h160v-160H180v160Zm440 0h160v-160H620v160Z\"/>\n",
              "  </svg>\n",
              "    </button>\n",
              "\n",
              "  <style>\n",
              "    .colab-df-container {\n",
              "      display:flex;\n",
              "      gap: 12px;\n",
              "    }\n",
              "\n",
              "    .colab-df-convert {\n",
              "      background-color: #E8F0FE;\n",
              "      border: none;\n",
              "      border-radius: 50%;\n",
              "      cursor: pointer;\n",
              "      display: none;\n",
              "      fill: #1967D2;\n",
              "      height: 32px;\n",
              "      padding: 0 0 0 0;\n",
              "      width: 32px;\n",
              "    }\n",
              "\n",
              "    .colab-df-convert:hover {\n",
              "      background-color: #E2EBFA;\n",
              "      box-shadow: 0px 1px 2px rgba(60, 64, 67, 0.3), 0px 1px 3px 1px rgba(60, 64, 67, 0.15);\n",
              "      fill: #174EA6;\n",
              "    }\n",
              "\n",
              "    .colab-df-buttons div {\n",
              "      margin-bottom: 4px;\n",
              "    }\n",
              "\n",
              "    [theme=dark] .colab-df-convert {\n",
              "      background-color: #3B4455;\n",
              "      fill: #D2E3FC;\n",
              "    }\n",
              "\n",
              "    [theme=dark] .colab-df-convert:hover {\n",
              "      background-color: #434B5C;\n",
              "      box-shadow: 0px 1px 3px 1px rgba(0, 0, 0, 0.15);\n",
              "      filter: drop-shadow(0px 1px 2px rgba(0, 0, 0, 0.3));\n",
              "      fill: #FFFFFF;\n",
              "    }\n",
              "  </style>\n",
              "\n",
              "    <script>\n",
              "      const buttonEl =\n",
              "        document.querySelector('#df-628207ec-19d1-4161-9057-d558151e2126 button.colab-df-convert');\n",
              "      buttonEl.style.display =\n",
              "        google.colab.kernel.accessAllowed ? 'block' : 'none';\n",
              "\n",
              "      async function convertToInteractive(key) {\n",
              "        const element = document.querySelector('#df-628207ec-19d1-4161-9057-d558151e2126');\n",
              "        const dataTable =\n",
              "          await google.colab.kernel.invokeFunction('convertToInteractive',\n",
              "                                                    [key], {});\n",
              "        if (!dataTable) return;\n",
              "\n",
              "        const docLinkHtml = 'Like what you see? Visit the ' +\n",
              "          '<a target=\"_blank\" href=https://colab.research.google.com/notebooks/data_table.ipynb>data table notebook</a>'\n",
              "          + ' to learn more about interactive tables.';\n",
              "        element.innerHTML = '';\n",
              "        dataTable['output_type'] = 'display_data';\n",
              "        await google.colab.output.renderOutput(dataTable, element);\n",
              "        const docLink = document.createElement('div');\n",
              "        docLink.innerHTML = docLinkHtml;\n",
              "        element.appendChild(docLink);\n",
              "      }\n",
              "    </script>\n",
              "  </div>\n",
              "\n",
              "\n",
              "<div id=\"df-0009a9d6-1338-44fa-aab7-2d017b150d8d\">\n",
              "  <button class=\"colab-df-quickchart\" onclick=\"quickchart('df-0009a9d6-1338-44fa-aab7-2d017b150d8d')\"\n",
              "            title=\"Suggest charts\"\n",
              "            style=\"display:none;\">\n",
              "\n",
              "<svg xmlns=\"http://www.w3.org/2000/svg\" height=\"24px\"viewBox=\"0 0 24 24\"\n",
              "     width=\"24px\">\n",
              "    <g>\n",
              "        <path d=\"M19 3H5c-1.1 0-2 .9-2 2v14c0 1.1.9 2 2 2h14c1.1 0 2-.9 2-2V5c0-1.1-.9-2-2-2zM9 17H7v-7h2v7zm4 0h-2V7h2v10zm4 0h-2v-4h2v4z\"/>\n",
              "    </g>\n",
              "</svg>\n",
              "  </button>\n",
              "\n",
              "<style>\n",
              "  .colab-df-quickchart {\n",
              "      --bg-color: #E8F0FE;\n",
              "      --fill-color: #1967D2;\n",
              "      --hover-bg-color: #E2EBFA;\n",
              "      --hover-fill-color: #174EA6;\n",
              "      --disabled-fill-color: #AAA;\n",
              "      --disabled-bg-color: #DDD;\n",
              "  }\n",
              "\n",
              "  [theme=dark] .colab-df-quickchart {\n",
              "      --bg-color: #3B4455;\n",
              "      --fill-color: #D2E3FC;\n",
              "      --hover-bg-color: #434B5C;\n",
              "      --hover-fill-color: #FFFFFF;\n",
              "      --disabled-bg-color: #3B4455;\n",
              "      --disabled-fill-color: #666;\n",
              "  }\n",
              "\n",
              "  .colab-df-quickchart {\n",
              "    background-color: var(--bg-color);\n",
              "    border: none;\n",
              "    border-radius: 50%;\n",
              "    cursor: pointer;\n",
              "    display: none;\n",
              "    fill: var(--fill-color);\n",
              "    height: 32px;\n",
              "    padding: 0;\n",
              "    width: 32px;\n",
              "  }\n",
              "\n",
              "  .colab-df-quickchart:hover {\n",
              "    background-color: var(--hover-bg-color);\n",
              "    box-shadow: 0 1px 2px rgba(60, 64, 67, 0.3), 0 1px 3px 1px rgba(60, 64, 67, 0.15);\n",
              "    fill: var(--button-hover-fill-color);\n",
              "  }\n",
              "\n",
              "  .colab-df-quickchart-complete:disabled,\n",
              "  .colab-df-quickchart-complete:disabled:hover {\n",
              "    background-color: var(--disabled-bg-color);\n",
              "    fill: var(--disabled-fill-color);\n",
              "    box-shadow: none;\n",
              "  }\n",
              "\n",
              "  .colab-df-spinner {\n",
              "    border: 2px solid var(--fill-color);\n",
              "    border-color: transparent;\n",
              "    border-bottom-color: var(--fill-color);\n",
              "    animation:\n",
              "      spin 1s steps(1) infinite;\n",
              "  }\n",
              "\n",
              "  @keyframes spin {\n",
              "    0% {\n",
              "      border-color: transparent;\n",
              "      border-bottom-color: var(--fill-color);\n",
              "      border-left-color: var(--fill-color);\n",
              "    }\n",
              "    20% {\n",
              "      border-color: transparent;\n",
              "      border-left-color: var(--fill-color);\n",
              "      border-top-color: var(--fill-color);\n",
              "    }\n",
              "    30% {\n",
              "      border-color: transparent;\n",
              "      border-left-color: var(--fill-color);\n",
              "      border-top-color: var(--fill-color);\n",
              "      border-right-color: var(--fill-color);\n",
              "    }\n",
              "    40% {\n",
              "      border-color: transparent;\n",
              "      border-right-color: var(--fill-color);\n",
              "      border-top-color: var(--fill-color);\n",
              "    }\n",
              "    60% {\n",
              "      border-color: transparent;\n",
              "      border-right-color: var(--fill-color);\n",
              "    }\n",
              "    80% {\n",
              "      border-color: transparent;\n",
              "      border-right-color: var(--fill-color);\n",
              "      border-bottom-color: var(--fill-color);\n",
              "    }\n",
              "    90% {\n",
              "      border-color: transparent;\n",
              "      border-bottom-color: var(--fill-color);\n",
              "    }\n",
              "  }\n",
              "</style>\n",
              "\n",
              "  <script>\n",
              "    async function quickchart(key) {\n",
              "      const quickchartButtonEl =\n",
              "        document.querySelector('#' + key + ' button');\n",
              "      quickchartButtonEl.disabled = true;  // To prevent multiple clicks.\n",
              "      quickchartButtonEl.classList.add('colab-df-spinner');\n",
              "      try {\n",
              "        const charts = await google.colab.kernel.invokeFunction(\n",
              "            'suggestCharts', [key], {});\n",
              "      } catch (error) {\n",
              "        console.error('Error during call to suggestCharts:', error);\n",
              "      }\n",
              "      quickchartButtonEl.classList.remove('colab-df-spinner');\n",
              "      quickchartButtonEl.classList.add('colab-df-quickchart-complete');\n",
              "    }\n",
              "    (() => {\n",
              "      let quickchartButtonEl =\n",
              "        document.querySelector('#df-0009a9d6-1338-44fa-aab7-2d017b150d8d button');\n",
              "      quickchartButtonEl.style.display =\n",
              "        google.colab.kernel.accessAllowed ? 'block' : 'none';\n",
              "    })();\n",
              "  </script>\n",
              "</div>\n",
              "\n",
              "  <div id=\"id_ca39ff7a-ff27-4d43-b951-bfb70e693fac\">\n",
              "    <style>\n",
              "      .colab-df-generate {\n",
              "        background-color: #E8F0FE;\n",
              "        border: none;\n",
              "        border-radius: 50%;\n",
              "        cursor: pointer;\n",
              "        display: none;\n",
              "        fill: #1967D2;\n",
              "        height: 32px;\n",
              "        padding: 0 0 0 0;\n",
              "        width: 32px;\n",
              "      }\n",
              "\n",
              "      .colab-df-generate:hover {\n",
              "        background-color: #E2EBFA;\n",
              "        box-shadow: 0px 1px 2px rgba(60, 64, 67, 0.3), 0px 1px 3px 1px rgba(60, 64, 67, 0.15);\n",
              "        fill: #174EA6;\n",
              "      }\n",
              "\n",
              "      [theme=dark] .colab-df-generate {\n",
              "        background-color: #3B4455;\n",
              "        fill: #D2E3FC;\n",
              "      }\n",
              "\n",
              "      [theme=dark] .colab-df-generate:hover {\n",
              "        background-color: #434B5C;\n",
              "        box-shadow: 0px 1px 3px 1px rgba(0, 0, 0, 0.15);\n",
              "        filter: drop-shadow(0px 1px 2px rgba(0, 0, 0, 0.3));\n",
              "        fill: #FFFFFF;\n",
              "      }\n",
              "    </style>\n",
              "    <button class=\"colab-df-generate\" onclick=\"generateWithVariable('baseTeste')\"\n",
              "            title=\"Generate code using this dataframe.\"\n",
              "            style=\"display:none;\">\n",
              "\n",
              "  <svg xmlns=\"http://www.w3.org/2000/svg\" height=\"24px\"viewBox=\"0 0 24 24\"\n",
              "       width=\"24px\">\n",
              "    <path d=\"M7,19H8.4L18.45,9,17,7.55,7,17.6ZM5,21V16.75L18.45,3.32a2,2,0,0,1,2.83,0l1.4,1.43a1.91,1.91,0,0,1,.58,1.4,1.91,1.91,0,0,1-.58,1.4L9.25,21ZM18.45,9,17,7.55Zm-12,3A5.31,5.31,0,0,0,4.9,8.1,5.31,5.31,0,0,0,1,6.5,5.31,5.31,0,0,0,4.9,4.9,5.31,5.31,0,0,0,6.5,1,5.31,5.31,0,0,0,8.1,4.9,5.31,5.31,0,0,0,12,6.5,5.46,5.46,0,0,0,6.5,12Z\"/>\n",
              "  </svg>\n",
              "    </button>\n",
              "    <script>\n",
              "      (() => {\n",
              "      const buttonEl =\n",
              "        document.querySelector('#id_ca39ff7a-ff27-4d43-b951-bfb70e693fac button.colab-df-generate');\n",
              "      buttonEl.style.display =\n",
              "        google.colab.kernel.accessAllowed ? 'block' : 'none';\n",
              "\n",
              "      buttonEl.onclick = () => {\n",
              "        google.colab.notebook.generateWithVariable('baseTeste');\n",
              "      }\n",
              "      })();\n",
              "    </script>\n",
              "  </div>\n",
              "\n",
              "    </div>\n",
              "  </div>\n"
            ],
            "text/plain": [
              "                                                  Text  class-att  \\\n",
              "0    'ASIAN EXPORTERS FEAR DAMAGE FROM U.S.-JAPAN R...          0   \n",
              "1    'CHINA DAILY SAYS VERMIN EAT 7-12 PCT GRAIN ST...          1   \n",
              "2    'JAPAN TO REVISE LONG-TERM ENERGY DEMAND DOWNW...          0   \n",
              "3    'THAI TRADE DEFICIT WIDENS IN FIRST QUARTER Th...          1   \n",
              "4    'INDONESIA SEES CPO PRICE RISING SHARPLY Indon...          0   \n",
              "..                                                 ...        ...   \n",
              "599  'CORN SUPPLY/DEMAND BY COUNTRY -- USDA The U.S...          1   \n",
              "600  'USDA REPORTS EXPORT SALES ACTIVITY The U.S. A...          1   \n",
              "601  'INTERNATIONAL AMERICAN &ltHOME> TO ACQUIRE CO...          0   \n",
              "602  'SONY CHAIRMAN FORECASTS LOWER PROFITS THIS YE...          0   \n",
              "603  'COARSE GRAIN SUPPLY/DEMAND BY COUNTRY -- USDA...          1   \n",
              "\n",
              "                                        processed_text  \n",
              "0    'asian export fear damag u.s.-japan rift mount...  \n",
              "1    'china daili say vermin eat 7-12 pct grain sto...  \n",
              "2    'japan revis long-term energi demand downward ...  \n",
              "3    'thai trade deficit widen first quarter thaila...  \n",
              "4    'indonesia see cpo price rise sharpli indonesi...  \n",
              "..                                                 ...  \n",
              "599  'corn supply/demand countri -- usda u.s. agric...  \n",
              "600  'usda report export sale activ u.s. agricultur...  \n",
              "601  'intern american & lthome > acquir co intern a...  \n",
              "602  'soni chairman forecast lower profit year soni...  \n",
              "603  'coars grain supply/demand countri -- usda u.s...  \n",
              "\n",
              "[604 rows x 3 columns]"
            ]
          },
          "execution_count": 19,
          "metadata": {},
          "output_type": "execute_result"
        }
      ],
      "source": [
        "baseTeste"
      ]
    },
    {
      "cell_type": "markdown",
      "metadata": {
        "id": "ujb2zP-3OqvJ"
      },
      "source": [
        "**Realiza o calculo dos atributos de frequencia**"
      ]
    },
    {
      "cell_type": "code",
      "execution_count": 20,
      "metadata": {
        "id": "Kq225hcHOqvJ"
      },
      "outputs": [],
      "source": [
        "vectorizer = TfidfVectorizer()\n",
        "\n",
        "x_train = vectorizer.fit_transform(baseTreino['processed_text'])\n",
        "y_train = baseTreino['class-att']\n",
        "\n",
        "x_test = vectorizer.fit_transform(baseTreino['processed_text'])\n",
        "y_test = baseTreino['class-att']"
      ]
    },
    {
      "cell_type": "markdown",
      "metadata": {
        "id": "to3pbeQjOqvJ"
      },
      "source": [
        "***Executando o algoritmo de DecisionTree na base obtida***"
      ]
    },
    {
      "cell_type": "code",
      "execution_count": 21,
      "metadata": {
        "id": "dQaz9L9wOqvK"
      },
      "outputs": [],
      "source": [
        "from sklearn.tree import DecisionTreeClassifier"
      ]
    },
    {
      "cell_type": "code",
      "execution_count": 22,
      "metadata": {
        "id": "2r7od8BPOqvK"
      },
      "outputs": [],
      "source": [
        "paramsDTC = {\n",
        "    'max_depth': [None, 10, 20, 50],\n",
        "    'min_samples_split': [2, 5, 10],\n",
        "    'min_samples_leaf': [1, 2, 4],\n",
        "    'max_features': [\"sqrt\", \"log2\", 0.2, 0.4,0.8, 1],\n",
        "    'criterion': [\"gini\", \"entropy\"]\n",
        "}"
      ]
    },
    {
      "cell_type": "code",
      "execution_count": 23,
      "metadata": {
        "id": "SETqsoOiOqvK"
      },
      "outputs": [],
      "source": [
        "gridDTC = GridSearchCV(DecisionTreeClassifier(), paramsDTC, cv=10, scoring='accuracy', n_jobs=-1)"
      ]
    },
    {
      "cell_type": "code",
      "execution_count": 24,
      "metadata": {
        "colab": {
          "base_uri": "https://localhost:8080/",
          "height": 116
        },
        "id": "8aHVpDmfOqvK",
        "outputId": "ef0d690b-8dad-4463-8a0a-cece3e547f30"
      },
      "outputs": [
        {
          "data": {
            "text/html": [
              "<style>#sk-container-id-1 {color: black;background-color: white;}#sk-container-id-1 pre{padding: 0;}#sk-container-id-1 div.sk-toggleable {background-color: white;}#sk-container-id-1 label.sk-toggleable__label {cursor: pointer;display: block;width: 100%;margin-bottom: 0;padding: 0.3em;box-sizing: border-box;text-align: center;}#sk-container-id-1 label.sk-toggleable__label-arrow:before {content: \"▸\";float: left;margin-right: 0.25em;color: #696969;}#sk-container-id-1 label.sk-toggleable__label-arrow:hover:before {color: black;}#sk-container-id-1 div.sk-estimator:hover label.sk-toggleable__label-arrow:before {color: black;}#sk-container-id-1 div.sk-toggleable__content {max-height: 0;max-width: 0;overflow: hidden;text-align: left;background-color: #f0f8ff;}#sk-container-id-1 div.sk-toggleable__content pre {margin: 0.2em;color: black;border-radius: 0.25em;background-color: #f0f8ff;}#sk-container-id-1 input.sk-toggleable__control:checked~div.sk-toggleable__content {max-height: 200px;max-width: 100%;overflow: auto;}#sk-container-id-1 input.sk-toggleable__control:checked~label.sk-toggleable__label-arrow:before {content: \"▾\";}#sk-container-id-1 div.sk-estimator input.sk-toggleable__control:checked~label.sk-toggleable__label {background-color: #d4ebff;}#sk-container-id-1 div.sk-label input.sk-toggleable__control:checked~label.sk-toggleable__label {background-color: #d4ebff;}#sk-container-id-1 input.sk-hidden--visually {border: 0;clip: rect(1px 1px 1px 1px);clip: rect(1px, 1px, 1px, 1px);height: 1px;margin: -1px;overflow: hidden;padding: 0;position: absolute;width: 1px;}#sk-container-id-1 div.sk-estimator {font-family: monospace;background-color: #f0f8ff;border: 1px dotted black;border-radius: 0.25em;box-sizing: border-box;margin-bottom: 0.5em;}#sk-container-id-1 div.sk-estimator:hover {background-color: #d4ebff;}#sk-container-id-1 div.sk-parallel-item::after {content: \"\";width: 100%;border-bottom: 1px solid gray;flex-grow: 1;}#sk-container-id-1 div.sk-label:hover label.sk-toggleable__label {background-color: #d4ebff;}#sk-container-id-1 div.sk-serial::before {content: \"\";position: absolute;border-left: 1px solid gray;box-sizing: border-box;top: 0;bottom: 0;left: 50%;z-index: 0;}#sk-container-id-1 div.sk-serial {display: flex;flex-direction: column;align-items: center;background-color: white;padding-right: 0.2em;padding-left: 0.2em;position: relative;}#sk-container-id-1 div.sk-item {position: relative;z-index: 1;}#sk-container-id-1 div.sk-parallel {display: flex;align-items: stretch;justify-content: center;background-color: white;position: relative;}#sk-container-id-1 div.sk-item::before, #sk-container-id-1 div.sk-parallel-item::before {content: \"\";position: absolute;border-left: 1px solid gray;box-sizing: border-box;top: 0;bottom: 0;left: 50%;z-index: -1;}#sk-container-id-1 div.sk-parallel-item {display: flex;flex-direction: column;z-index: 1;position: relative;background-color: white;}#sk-container-id-1 div.sk-parallel-item:first-child::after {align-self: flex-end;width: 50%;}#sk-container-id-1 div.sk-parallel-item:last-child::after {align-self: flex-start;width: 50%;}#sk-container-id-1 div.sk-parallel-item:only-child::after {width: 0;}#sk-container-id-1 div.sk-dashed-wrapped {border: 1px dashed gray;margin: 0 0.4em 0.5em 0.4em;box-sizing: border-box;padding-bottom: 0.4em;background-color: white;}#sk-container-id-1 div.sk-label label {font-family: monospace;font-weight: bold;display: inline-block;line-height: 1.2em;}#sk-container-id-1 div.sk-label-container {text-align: center;}#sk-container-id-1 div.sk-container {/* jupyter's `normalize.less` sets `[hidden] { display: none; }` but bootstrap.min.css set `[hidden] { display: none !important; }` so we also need the `!important` here to be able to override the default hidden behavior on the sphinx rendered scikit-learn.org. See: https://github.com/scikit-learn/scikit-learn/issues/21755 */display: inline-block !important;position: relative;}#sk-container-id-1 div.sk-text-repr-fallback {display: none;}</style><div id=\"sk-container-id-1\" class=\"sk-top-container\"><div class=\"sk-text-repr-fallback\"><pre>GridSearchCV(cv=10, estimator=DecisionTreeClassifier(), n_jobs=-1,\n",
              "             param_grid={&#x27;criterion&#x27;: [&#x27;gini&#x27;, &#x27;entropy&#x27;],\n",
              "                         &#x27;max_depth&#x27;: [None, 10, 20, 50],\n",
              "                         &#x27;max_features&#x27;: [&#x27;sqrt&#x27;, &#x27;log2&#x27;, 0.2, 0.4, 0.8, 1],\n",
              "                         &#x27;min_samples_leaf&#x27;: [1, 2, 4],\n",
              "                         &#x27;min_samples_split&#x27;: [2, 5, 10]},\n",
              "             scoring=&#x27;accuracy&#x27;)</pre><b>In a Jupyter environment, please rerun this cell to show the HTML representation or trust the notebook. <br />On GitHub, the HTML representation is unable to render, please try loading this page with nbviewer.org.</b></div><div class=\"sk-container\" hidden><div class=\"sk-item sk-dashed-wrapped\"><div class=\"sk-label-container\"><div class=\"sk-label sk-toggleable\"><input class=\"sk-toggleable__control sk-hidden--visually\" id=\"sk-estimator-id-1\" type=\"checkbox\" ><label for=\"sk-estimator-id-1\" class=\"sk-toggleable__label sk-toggleable__label-arrow\">GridSearchCV</label><div class=\"sk-toggleable__content\"><pre>GridSearchCV(cv=10, estimator=DecisionTreeClassifier(), n_jobs=-1,\n",
              "             param_grid={&#x27;criterion&#x27;: [&#x27;gini&#x27;, &#x27;entropy&#x27;],\n",
              "                         &#x27;max_depth&#x27;: [None, 10, 20, 50],\n",
              "                         &#x27;max_features&#x27;: [&#x27;sqrt&#x27;, &#x27;log2&#x27;, 0.2, 0.4, 0.8, 1],\n",
              "                         &#x27;min_samples_leaf&#x27;: [1, 2, 4],\n",
              "                         &#x27;min_samples_split&#x27;: [2, 5, 10]},\n",
              "             scoring=&#x27;accuracy&#x27;)</pre></div></div></div><div class=\"sk-parallel\"><div class=\"sk-parallel-item\"><div class=\"sk-item\"><div class=\"sk-label-container\"><div class=\"sk-label sk-toggleable\"><input class=\"sk-toggleable__control sk-hidden--visually\" id=\"sk-estimator-id-2\" type=\"checkbox\" ><label for=\"sk-estimator-id-2\" class=\"sk-toggleable__label sk-toggleable__label-arrow\">estimator: DecisionTreeClassifier</label><div class=\"sk-toggleable__content\"><pre>DecisionTreeClassifier()</pre></div></div></div><div class=\"sk-serial\"><div class=\"sk-item\"><div class=\"sk-estimator sk-toggleable\"><input class=\"sk-toggleable__control sk-hidden--visually\" id=\"sk-estimator-id-3\" type=\"checkbox\" ><label for=\"sk-estimator-id-3\" class=\"sk-toggleable__label sk-toggleable__label-arrow\">DecisionTreeClassifier</label><div class=\"sk-toggleable__content\"><pre>DecisionTreeClassifier()</pre></div></div></div></div></div></div></div></div></div></div>"
            ],
            "text/plain": [
              "GridSearchCV(cv=10, estimator=DecisionTreeClassifier(), n_jobs=-1,\n",
              "             param_grid={'criterion': ['gini', 'entropy'],\n",
              "                         'max_depth': [None, 10, 20, 50],\n",
              "                         'max_features': ['sqrt', 'log2', 0.2, 0.4, 0.8, 1],\n",
              "                         'min_samples_leaf': [1, 2, 4],\n",
              "                         'min_samples_split': [2, 5, 10]},\n",
              "             scoring='accuracy')"
            ]
          },
          "execution_count": 24,
          "metadata": {},
          "output_type": "execute_result"
        }
      ],
      "source": [
        "gridDTC.fit(x_train, y_train)"
      ]
    },
    {
      "cell_type": "code",
      "execution_count": 25,
      "metadata": {
        "colab": {
          "base_uri": "https://localhost:8080/"
        },
        "id": "w16xw5njOqvK",
        "outputId": "ee89072b-310c-4fe8-a5a3-0717a6e83e9f"
      },
      "outputs": [
        {
          "data": {
            "text/plain": [
              "0.9877708850289496"
            ]
          },
          "execution_count": 25,
          "metadata": {},
          "output_type": "execute_result"
        }
      ],
      "source": [
        "bestParams = gridDTC.best_params_\n",
        "gridDTC.best_score_"
      ]
    },
    {
      "cell_type": "code",
      "execution_count": 26,
      "metadata": {
        "colab": {
          "base_uri": "https://localhost:8080/"
        },
        "id": "sor0pCcROqvK",
        "outputId": "00630b17-3231-43b4-8d77-44dee6099901"
      },
      "outputs": [
        {
          "data": {
            "text/plain": [
              "{'criterion': 'gini',\n",
              " 'max_depth': 20,\n",
              " 'max_features': 0.8,\n",
              " 'min_samples_leaf': 1,\n",
              " 'min_samples_split': 10}"
            ]
          },
          "execution_count": 26,
          "metadata": {},
          "output_type": "execute_result"
        }
      ],
      "source": [
        "bestParams"
      ]
    },
    {
      "cell_type": "code",
      "execution_count": 27,
      "metadata": {
        "id": "tIRCfUSiOqvK"
      },
      "outputs": [],
      "source": [
        "dtc = DecisionTreeClassifier(\n",
        "    criterion=bestParams['criterion'],\n",
        "    max_depth=bestParams['max_depth'],\n",
        "    min_samples_leaf=bestParams['min_samples_leaf'],\n",
        "    min_samples_split=bestParams['min_samples_split'],\n",
        "    max_features=bestParams['max_features'],\n",
        "    random_state=42\n",
        ")"
      ]
    },
    {
      "cell_type": "code",
      "execution_count": 28,
      "metadata": {
        "colab": {
          "base_uri": "https://localhost:8080/",
          "height": 91
        },
        "id": "d1iY6bDsOqvL",
        "outputId": "58551663-ea56-4381-bc06-b46288bec8df"
      },
      "outputs": [
        {
          "data": {
            "text/html": [
              "<style>#sk-container-id-2 {color: black;background-color: white;}#sk-container-id-2 pre{padding: 0;}#sk-container-id-2 div.sk-toggleable {background-color: white;}#sk-container-id-2 label.sk-toggleable__label {cursor: pointer;display: block;width: 100%;margin-bottom: 0;padding: 0.3em;box-sizing: border-box;text-align: center;}#sk-container-id-2 label.sk-toggleable__label-arrow:before {content: \"▸\";float: left;margin-right: 0.25em;color: #696969;}#sk-container-id-2 label.sk-toggleable__label-arrow:hover:before {color: black;}#sk-container-id-2 div.sk-estimator:hover label.sk-toggleable__label-arrow:before {color: black;}#sk-container-id-2 div.sk-toggleable__content {max-height: 0;max-width: 0;overflow: hidden;text-align: left;background-color: #f0f8ff;}#sk-container-id-2 div.sk-toggleable__content pre {margin: 0.2em;color: black;border-radius: 0.25em;background-color: #f0f8ff;}#sk-container-id-2 input.sk-toggleable__control:checked~div.sk-toggleable__content {max-height: 200px;max-width: 100%;overflow: auto;}#sk-container-id-2 input.sk-toggleable__control:checked~label.sk-toggleable__label-arrow:before {content: \"▾\";}#sk-container-id-2 div.sk-estimator input.sk-toggleable__control:checked~label.sk-toggleable__label {background-color: #d4ebff;}#sk-container-id-2 div.sk-label input.sk-toggleable__control:checked~label.sk-toggleable__label {background-color: #d4ebff;}#sk-container-id-2 input.sk-hidden--visually {border: 0;clip: rect(1px 1px 1px 1px);clip: rect(1px, 1px, 1px, 1px);height: 1px;margin: -1px;overflow: hidden;padding: 0;position: absolute;width: 1px;}#sk-container-id-2 div.sk-estimator {font-family: monospace;background-color: #f0f8ff;border: 1px dotted black;border-radius: 0.25em;box-sizing: border-box;margin-bottom: 0.5em;}#sk-container-id-2 div.sk-estimator:hover {background-color: #d4ebff;}#sk-container-id-2 div.sk-parallel-item::after {content: \"\";width: 100%;border-bottom: 1px solid gray;flex-grow: 1;}#sk-container-id-2 div.sk-label:hover label.sk-toggleable__label {background-color: #d4ebff;}#sk-container-id-2 div.sk-serial::before {content: \"\";position: absolute;border-left: 1px solid gray;box-sizing: border-box;top: 0;bottom: 0;left: 50%;z-index: 0;}#sk-container-id-2 div.sk-serial {display: flex;flex-direction: column;align-items: center;background-color: white;padding-right: 0.2em;padding-left: 0.2em;position: relative;}#sk-container-id-2 div.sk-item {position: relative;z-index: 1;}#sk-container-id-2 div.sk-parallel {display: flex;align-items: stretch;justify-content: center;background-color: white;position: relative;}#sk-container-id-2 div.sk-item::before, #sk-container-id-2 div.sk-parallel-item::before {content: \"\";position: absolute;border-left: 1px solid gray;box-sizing: border-box;top: 0;bottom: 0;left: 50%;z-index: -1;}#sk-container-id-2 div.sk-parallel-item {display: flex;flex-direction: column;z-index: 1;position: relative;background-color: white;}#sk-container-id-2 div.sk-parallel-item:first-child::after {align-self: flex-end;width: 50%;}#sk-container-id-2 div.sk-parallel-item:last-child::after {align-self: flex-start;width: 50%;}#sk-container-id-2 div.sk-parallel-item:only-child::after {width: 0;}#sk-container-id-2 div.sk-dashed-wrapped {border: 1px dashed gray;margin: 0 0.4em 0.5em 0.4em;box-sizing: border-box;padding-bottom: 0.4em;background-color: white;}#sk-container-id-2 div.sk-label label {font-family: monospace;font-weight: bold;display: inline-block;line-height: 1.2em;}#sk-container-id-2 div.sk-label-container {text-align: center;}#sk-container-id-2 div.sk-container {/* jupyter's `normalize.less` sets `[hidden] { display: none; }` but bootstrap.min.css set `[hidden] { display: none !important; }` so we also need the `!important` here to be able to override the default hidden behavior on the sphinx rendered scikit-learn.org. See: https://github.com/scikit-learn/scikit-learn/issues/21755 */display: inline-block !important;position: relative;}#sk-container-id-2 div.sk-text-repr-fallback {display: none;}</style><div id=\"sk-container-id-2\" class=\"sk-top-container\"><div class=\"sk-text-repr-fallback\"><pre>DecisionTreeClassifier(max_depth=20, max_features=0.8, min_samples_split=10,\n",
              "                       random_state=42)</pre><b>In a Jupyter environment, please rerun this cell to show the HTML representation or trust the notebook. <br />On GitHub, the HTML representation is unable to render, please try loading this page with nbviewer.org.</b></div><div class=\"sk-container\" hidden><div class=\"sk-item\"><div class=\"sk-estimator sk-toggleable\"><input class=\"sk-toggleable__control sk-hidden--visually\" id=\"sk-estimator-id-4\" type=\"checkbox\" checked><label for=\"sk-estimator-id-4\" class=\"sk-toggleable__label sk-toggleable__label-arrow\">DecisionTreeClassifier</label><div class=\"sk-toggleable__content\"><pre>DecisionTreeClassifier(max_depth=20, max_features=0.8, min_samples_split=10,\n",
              "                       random_state=42)</pre></div></div></div></div></div>"
            ],
            "text/plain": [
              "DecisionTreeClassifier(max_depth=20, max_features=0.8, min_samples_split=10,\n",
              "                       random_state=42)"
            ]
          },
          "execution_count": 28,
          "metadata": {},
          "output_type": "execute_result"
        }
      ],
      "source": [
        "dtc.fit(x_train, y_train)"
      ]
    },
    {
      "cell_type": "code",
      "execution_count": 29,
      "metadata": {
        "id": "qlLXuuFvOqvL"
      },
      "outputs": [],
      "source": [
        "resultados = cross_val_predict(dtc, x_test, y_test, cv=10)"
      ]
    },
    {
      "cell_type": "code",
      "execution_count": 30,
      "metadata": {
        "colab": {
          "base_uri": "https://localhost:8080/"
        },
        "id": "9G24k2e0OqvL",
        "outputId": "e652935b-5e27-4589-cfad-c976fc8b8df6"
      },
      "outputs": [
        {
          "name": "stdout",
          "output_type": "stream",
          "text": [
            "              precision    recall  f1-score   support\n",
            "\n",
            "           0     0.9911    0.9924    0.9917      1451\n",
            "           1     0.8911    0.8738    0.8824       103\n",
            "\n",
            "    accuracy                         0.9846      1554\n",
            "   macro avg     0.9411    0.9331    0.9370      1554\n",
            "weighted avg     0.9844    0.9846    0.9845      1554\n",
            "\n"
          ]
        }
      ],
      "source": [
        "print(metrics.classification_report(y_test, resultados, digits=4))"
      ]
    },
    {
      "cell_type": "code",
      "execution_count": 31,
      "metadata": {
        "id": "kyKYdA2JOqvL"
      },
      "outputs": [],
      "source": [
        "cm = metrics.confusion_matrix(y_test, resultados)"
      ]
    },
    {
      "cell_type": "code",
      "execution_count": 32,
      "metadata": {
        "colab": {
          "base_uri": "https://localhost:8080/"
        },
        "id": "Jk3Qc_mOOqvL",
        "outputId": "c8ba8a9c-75e0-4e55-b4f1-513d07857e94"
      },
      "outputs": [
        {
          "data": {
            "text/plain": [
              "array([[1440,   11],\n",
              "       [  13,   90]])"
            ]
          },
          "execution_count": 32,
          "metadata": {},
          "output_type": "execute_result"
        }
      ],
      "source": [
        "cm"
      ]
    },
    {
      "cell_type": "code",
      "execution_count": 33,
      "metadata": {
        "colab": {
          "base_uri": "https://localhost:8080/",
          "height": 472
        },
        "id": "RtsxD1AROqvL",
        "outputId": "40f90674-5047-47e4-f6ff-bf1ea28aa58d"
      },
      "outputs": [
        {
          "data": {
            "image/png": "[encoded data removed]",
            "text/plain": [
              "<Figure size 640x480 with 2 Axes>"
            ]
          },
          "metadata": {},
          "output_type": "display_data"
        }
      ],
      "source": [
        "classes = [0,1]\n",
        "sns.heatmap(cm, annot=True, xticklabels=classes, yticklabels=classes, fmt='d', cmap='Blues')\n",
        "plt.xlabel('Classe Predita')\n",
        "plt.ylabel('Classe Real')\n",
        "plt.title('Matriz de Confusão')\n",
        "plt.show()"
      ]
    },
    {
      "cell_type": "markdown",
      "metadata": {
        "id": "KCPSOB1wOqvL"
      },
      "source": [
        "***Executando o algoritmo de RandomForest na base obtida***"
      ]
    },
    {
      "cell_type": "code",
      "execution_count": 34,
      "metadata": {
        "id": "me-1j-qIOqvL"
      },
      "outputs": [],
      "source": [
        "from sklearn.ensemble import RandomForestClassifier"
      ]
    },
    {
      "cell_type": "code",
      "execution_count": 35,
      "metadata": {
        "id": "P_33rpEVOqvM"
      },
      "outputs": [],
      "source": [
        "rfc = RandomForestClassifier(\n",
        "    n_estimators=100,\n",
        "    criterion=bestParams['criterion'],\n",
        "    max_depth=bestParams['max_depth'],\n",
        "    min_samples_leaf=bestParams['min_samples_leaf'],\n",
        "    min_samples_split=bestParams['min_samples_split'],\n",
        "    max_features=bestParams['max_features'],\n",
        "    random_state=42\n",
        "    )"
      ]
    },
    {
      "cell_type": "code",
      "execution_count": 36,
      "metadata": {
        "colab": {
          "base_uri": "https://localhost:8080/",
          "height": 91
        },
        "id": "EwRbo4v0OqvM",
        "outputId": "634e4352-a943-4676-9876-a87c83279f5a"
      },
      "outputs": [
        {
          "data": {
            "text/html": [
              "<style>#sk-container-id-3 {color: black;background-color: white;}#sk-container-id-3 pre{padding: 0;}#sk-container-id-3 div.sk-toggleable {background-color: white;}#sk-container-id-3 label.sk-toggleable__label {cursor: pointer;display: block;width: 100%;margin-bottom: 0;padding: 0.3em;box-sizing: border-box;text-align: center;}#sk-container-id-3 label.sk-toggleable__label-arrow:before {content: \"▸\";float: left;margin-right: 0.25em;color: #696969;}#sk-container-id-3 label.sk-toggleable__label-arrow:hover:before {color: black;}#sk-container-id-3 div.sk-estimator:hover label.sk-toggleable__label-arrow:before {color: black;}#sk-container-id-3 div.sk-toggleable__content {max-height: 0;max-width: 0;overflow: hidden;text-align: left;background-color: #f0f8ff;}#sk-container-id-3 div.sk-toggleable__content pre {margin: 0.2em;color: black;border-radius: 0.25em;background-color: #f0f8ff;}#sk-container-id-3 input.sk-toggleable__control:checked~div.sk-toggleable__content {max-height: 200px;max-width: 100%;overflow: auto;}#sk-container-id-3 input.sk-toggleable__control:checked~label.sk-toggleable__label-arrow:before {content: \"▾\";}#sk-container-id-3 div.sk-estimator input.sk-toggleable__control:checked~label.sk-toggleable__label {background-color: #d4ebff;}#sk-container-id-3 div.sk-label input.sk-toggleable__control:checked~label.sk-toggleable__label {background-color: #d4ebff;}#sk-container-id-3 input.sk-hidden--visually {border: 0;clip: rect(1px 1px 1px 1px);clip: rect(1px, 1px, 1px, 1px);height: 1px;margin: -1px;overflow: hidden;padding: 0;position: absolute;width: 1px;}#sk-container-id-3 div.sk-estimator {font-family: monospace;background-color: #f0f8ff;border: 1px dotted black;border-radius: 0.25em;box-sizing: border-box;margin-bottom: 0.5em;}#sk-container-id-3 div.sk-estimator:hover {background-color: #d4ebff;}#sk-container-id-3 div.sk-parallel-item::after {content: \"\";width: 100%;border-bottom: 1px solid gray;flex-grow: 1;}#sk-container-id-3 div.sk-label:hover label.sk-toggleable__label {background-color: #d4ebff;}#sk-container-id-3 div.sk-serial::before {content: \"\";position: absolute;border-left: 1px solid gray;box-sizing: border-box;top: 0;bottom: 0;left: 50%;z-index: 0;}#sk-container-id-3 div.sk-serial {display: flex;flex-direction: column;align-items: center;background-color: white;padding-right: 0.2em;padding-left: 0.2em;position: relative;}#sk-container-id-3 div.sk-item {position: relative;z-index: 1;}#sk-container-id-3 div.sk-parallel {display: flex;align-items: stretch;justify-content: center;background-color: white;position: relative;}#sk-container-id-3 div.sk-item::before, #sk-container-id-3 div.sk-parallel-item::before {content: \"\";position: absolute;border-left: 1px solid gray;box-sizing: border-box;top: 0;bottom: 0;left: 50%;z-index: -1;}#sk-container-id-3 div.sk-parallel-item {display: flex;flex-direction: column;z-index: 1;position: relative;background-color: white;}#sk-container-id-3 div.sk-parallel-item:first-child::after {align-self: flex-end;width: 50%;}#sk-container-id-3 div.sk-parallel-item:last-child::after {align-self: flex-start;width: 50%;}#sk-container-id-3 div.sk-parallel-item:only-child::after {width: 0;}#sk-container-id-3 div.sk-dashed-wrapped {border: 1px dashed gray;margin: 0 0.4em 0.5em 0.4em;box-sizing: border-box;padding-bottom: 0.4em;background-color: white;}#sk-container-id-3 div.sk-label label {font-family: monospace;font-weight: bold;display: inline-block;line-height: 1.2em;}#sk-container-id-3 div.sk-label-container {text-align: center;}#sk-container-id-3 div.sk-container {/* jupyter's `normalize.less` sets `[hidden] { display: none; }` but bootstrap.min.css set `[hidden] { display: none !important; }` so we also need the `!important` here to be able to override the default hidden behavior on the sphinx rendered scikit-learn.org. See: https://github.com/scikit-learn/scikit-learn/issues/21755 */display: inline-block !important;position: relative;}#sk-container-id-3 div.sk-text-repr-fallback {display: none;}</style><div id=\"sk-container-id-3\" class=\"sk-top-container\"><div class=\"sk-text-repr-fallback\"><pre>RandomForestClassifier(max_depth=20, max_features=0.8, min_samples_split=10,\n",
              "                       random_state=42)</pre><b>In a Jupyter environment, please rerun this cell to show the HTML representation or trust the notebook. <br />On GitHub, the HTML representation is unable to render, please try loading this page with nbviewer.org.</b></div><div class=\"sk-container\" hidden><div class=\"sk-item\"><div class=\"sk-estimator sk-toggleable\"><input class=\"sk-toggleable__control sk-hidden--visually\" id=\"sk-estimator-id-5\" type=\"checkbox\" checked><label for=\"sk-estimator-id-5\" class=\"sk-toggleable__label sk-toggleable__label-arrow\">RandomForestClassifier</label><div class=\"sk-toggleable__content\"><pre>RandomForestClassifier(max_depth=20, max_features=0.8, min_samples_split=10,\n",
              "                       random_state=42)</pre></div></div></div></div></div>"
            ],
            "text/plain": [
              "RandomForestClassifier(max_depth=20, max_features=0.8, min_samples_split=10,\n",
              "                       random_state=42)"
            ]
          },
          "execution_count": 36,
          "metadata": {},
          "output_type": "execute_result"
        }
      ],
      "source": [
        "rfc.fit(x_train, y_train)"
      ]
    },
    {
      "cell_type": "code",
      "execution_count": 37,
      "metadata": {
        "id": "BP4itCdAOqvM"
      },
      "outputs": [],
      "source": [
        "resultados = cross_val_predict(rfc, x_test, y_test, cv=10)"
      ]
    },
    {
      "cell_type": "code",
      "execution_count": 38,
      "metadata": {
        "colab": {
          "base_uri": "https://localhost:8080/"
        },
        "id": "cNVt-ub9OqvM",
        "outputId": "d16dc3a3-1bb4-476f-9fd8-6be2b62b4850"
      },
      "outputs": [
        {
          "name": "stdout",
          "output_type": "stream",
          "text": [
            "              precision    recall  f1-score   support\n",
            "\n",
            "           0     0.9911    0.9945    0.9928      1451\n",
            "           1     0.9184    0.8738    0.8955       103\n",
            "\n",
            "    accuracy                         0.9865      1554\n",
            "   macro avg     0.9547    0.9341    0.9441      1554\n",
            "weighted avg     0.9863    0.9865    0.9863      1554\n",
            "\n"
          ]
        }
      ],
      "source": [
        "print(metrics.classification_report(y_test, resultados, digits=4))"
      ]
    },
    {
      "cell_type": "code",
      "execution_count": 39,
      "metadata": {
        "id": "EX8tUWMVOqvM"
      },
      "outputs": [],
      "source": [
        "cm = metrics.confusion_matrix(y_test, resultados)"
      ]
    },
    {
      "cell_type": "code",
      "execution_count": 40,
      "metadata": {
        "colab": {
          "base_uri": "https://localhost:8080/"
        },
        "id": "PuC48-2NOqvM",
        "outputId": "4aff2a8a-df97-4d89-9a2f-cd899d930dbf"
      },
      "outputs": [
        {
          "data": {
            "text/plain": [
              "array([[1443,    8],\n",
              "       [  13,   90]])"
            ]
          },
          "execution_count": 40,
          "metadata": {},
          "output_type": "execute_result"
        }
      ],
      "source": [
        "cm"
      ]
    },
    {
      "cell_type": "code",
      "execution_count": 41,
      "metadata": {
        "colab": {
          "base_uri": "https://localhost:8080/",
          "height": 472
        },
        "id": "I4GSWXgMOqvM",
        "outputId": "19569885-5a6f-4fcd-ffd9-a820afe10e4b"
      },
      "outputs": [
        {
          "data": {
            "image/png": "[encoded data removed]",
            "text/plain": [
              "<Figure size 640x480 with 2 Axes>"
            ]
          },
          "metadata": {},
          "output_type": "display_data"
        }
      ],
      "source": [
        "classes = [0,1]\n",
        "sns.heatmap(cm, annot=True, xticklabels=classes, yticklabels=classes, fmt='d', cmap='Blues')\n",
        "plt.xlabel('Classe Predita')\n",
        "plt.ylabel('Classe Real')\n",
        "plt.title('Matriz de Confusão')\n",
        "plt.show()"
      ]
    },
    {
      "cell_type": "markdown",
      "metadata": {
        "id": "p5gfWt55OqvN"
      },
      "source": [
        "***Executando o algoritmo de NeuralNetwork na base obtida***"
      ]
    },
    {
      "cell_type": "code",
      "execution_count": 42,
      "metadata": {
        "id": "pqPSvMUGOqvR"
      },
      "outputs": [],
      "source": [
        "from sklearn.neural_network import MLPClassifier"
      ]
    },
    {
      "cell_type": "code",
      "execution_count": 43,
      "metadata": {
        "id": "N96XImFdOqvR"
      },
      "outputs": [],
      "source": [
        "mlp = MLPClassifier(\n",
        "    hidden_layer_sizes=(100, 100, 100),\n",
        "    activation='relu',\n",
        "    alpha=0.0001,\n",
        "    learning_rate='adaptive',\n",
        "    solver='adam',\n",
        "    random_state=42\n",
        ")"
      ]
    },
    {
      "cell_type": "code",
      "execution_count": 44,
      "metadata": {
        "colab": {
          "base_uri": "https://localhost:8080/",
          "height": 91
        },
        "id": "4ROzepsoOqvR",
        "outputId": "d0cfa4ac-968a-487c-cba0-67c95a2c77df"
      },
      "outputs": [
        {
          "data": {
            "text/html": [
              "<style>#sk-container-id-4 {color: black;background-color: white;}#sk-container-id-4 pre{padding: 0;}#sk-container-id-4 div.sk-toggleable {background-color: white;}#sk-container-id-4 label.sk-toggleable__label {cursor: pointer;display: block;width: 100%;margin-bottom: 0;padding: 0.3em;box-sizing: border-box;text-align: center;}#sk-container-id-4 label.sk-toggleable__label-arrow:before {content: \"▸\";float: left;margin-right: 0.25em;color: #696969;}#sk-container-id-4 label.sk-toggleable__label-arrow:hover:before {color: black;}#sk-container-id-4 div.sk-estimator:hover label.sk-toggleable__label-arrow:before {color: black;}#sk-container-id-4 div.sk-toggleable__content {max-height: 0;max-width: 0;overflow: hidden;text-align: left;background-color: #f0f8ff;}#sk-container-id-4 div.sk-toggleable__content pre {margin: 0.2em;color: black;border-radius: 0.25em;background-color: #f0f8ff;}#sk-container-id-4 input.sk-toggleable__control:checked~div.sk-toggleable__content {max-height: 200px;max-width: 100%;overflow: auto;}#sk-container-id-4 input.sk-toggleable__control:checked~label.sk-toggleable__label-arrow:before {content: \"▾\";}#sk-container-id-4 div.sk-estimator input.sk-toggleable__control:checked~label.sk-toggleable__label {background-color: #d4ebff;}#sk-container-id-4 div.sk-label input.sk-toggleable__control:checked~label.sk-toggleable__label {background-color: #d4ebff;}#sk-container-id-4 input.sk-hidden--visually {border: 0;clip: rect(1px 1px 1px 1px);clip: rect(1px, 1px, 1px, 1px);height: 1px;margin: -1px;overflow: hidden;padding: 0;position: absolute;width: 1px;}#sk-container-id-4 div.sk-estimator {font-family: monospace;background-color: #f0f8ff;border: 1px dotted black;border-radius: 0.25em;box-sizing: border-box;margin-bottom: 0.5em;}#sk-container-id-4 div.sk-estimator:hover {background-color: #d4ebff;}#sk-container-id-4 div.sk-parallel-item::after {content: \"\";width: 100%;border-bottom: 1px solid gray;flex-grow: 1;}#sk-container-id-4 div.sk-label:hover label.sk-toggleable__label {background-color: #d4ebff;}#sk-container-id-4 div.sk-serial::before {content: \"\";position: absolute;border-left: 1px solid gray;box-sizing: border-box;top: 0;bottom: 0;left: 50%;z-index: 0;}#sk-container-id-4 div.sk-serial {display: flex;flex-direction: column;align-items: center;background-color: white;padding-right: 0.2em;padding-left: 0.2em;position: relative;}#sk-container-id-4 div.sk-item {position: relative;z-index: 1;}#sk-container-id-4 div.sk-parallel {display: flex;align-items: stretch;justify-content: center;background-color: white;position: relative;}#sk-container-id-4 div.sk-item::before, #sk-container-id-4 div.sk-parallel-item::before {content: \"\";position: absolute;border-left: 1px solid gray;box-sizing: border-box;top: 0;bottom: 0;left: 50%;z-index: -1;}#sk-container-id-4 div.sk-parallel-item {display: flex;flex-direction: column;z-index: 1;position: relative;background-color: white;}#sk-container-id-4 div.sk-parallel-item:first-child::after {align-self: flex-end;width: 50%;}#sk-container-id-4 div.sk-parallel-item:last-child::after {align-self: flex-start;width: 50%;}#sk-container-id-4 div.sk-parallel-item:only-child::after {width: 0;}#sk-container-id-4 div.sk-dashed-wrapped {border: 1px dashed gray;margin: 0 0.4em 0.5em 0.4em;box-sizing: border-box;padding-bottom: 0.4em;background-color: white;}#sk-container-id-4 div.sk-label label {font-family: monospace;font-weight: bold;display: inline-block;line-height: 1.2em;}#sk-container-id-4 div.sk-label-container {text-align: center;}#sk-container-id-4 div.sk-container {/* jupyter's `normalize.less` sets `[hidden] { display: none; }` but bootstrap.min.css set `[hidden] { display: none !important; }` so we also need the `!important` here to be able to override the default hidden behavior on the sphinx rendered scikit-learn.org. See: https://github.com/scikit-learn/scikit-learn/issues/21755 */display: inline-block !important;position: relative;}#sk-container-id-4 div.sk-text-repr-fallback {display: none;}</style><div id=\"sk-container-id-4\" class=\"sk-top-container\"><div class=\"sk-text-repr-fallback\"><pre>MLPClassifier(hidden_layer_sizes=(100, 100, 100), learning_rate=&#x27;adaptive&#x27;,\n",
              "              random_state=42)</pre><b>In a Jupyter environment, please rerun this cell to show the HTML representation or trust the notebook. <br />On GitHub, the HTML representation is unable to render, please try loading this page with nbviewer.org.</b></div><div class=\"sk-container\" hidden><div class=\"sk-item\"><div class=\"sk-estimator sk-toggleable\"><input class=\"sk-toggleable__control sk-hidden--visually\" id=\"sk-estimator-id-6\" type=\"checkbox\" checked><label for=\"sk-estimator-id-6\" class=\"sk-toggleable__label sk-toggleable__label-arrow\">MLPClassifier</label><div class=\"sk-toggleable__content\"><pre>MLPClassifier(hidden_layer_sizes=(100, 100, 100), learning_rate=&#x27;adaptive&#x27;,\n",
              "              random_state=42)</pre></div></div></div></div></div>"
            ],
            "text/plain": [
              "MLPClassifier(hidden_layer_sizes=(100, 100, 100), learning_rate='adaptive',\n",
              "              random_state=42)"
            ]
          },
          "execution_count": 44,
          "metadata": {},
          "output_type": "execute_result"
        }
      ],
      "source": [
        "mlp.fit(x_train, y_train)"
      ]
    },
    {
      "cell_type": "code",
      "execution_count": 45,
      "metadata": {
        "id": "GY7EqsN4OqvR"
      },
      "outputs": [],
      "source": [
        "resultados = cross_val_predict(mlp, x_test, y_test, cv=10)"
      ]
    },
    {
      "cell_type": "code",
      "execution_count": 46,
      "metadata": {
        "colab": {
          "base_uri": "https://localhost:8080/"
        },
        "id": "ZBvOXt7uOqvR",
        "outputId": "53001dad-7550-453c-83f2-d7bc97bf6ed7"
      },
      "outputs": [
        {
          "name": "stdout",
          "output_type": "stream",
          "text": [
            "              precision    recall  f1-score   support\n",
            "\n",
            "           0     0.9857    0.9945    0.9901      1451\n",
            "           1     0.9111    0.7961    0.8497       103\n",
            "\n",
            "    accuracy                         0.9813      1554\n",
            "   macro avg     0.9484    0.8953    0.9199      1554\n",
            "weighted avg     0.9807    0.9813    0.9808      1554\n",
            "\n"
          ]
        }
      ],
      "source": [
        "print(metrics.classification_report(y_test, resultados, digits=4))"
      ]
    },
    {
      "cell_type": "code",
      "execution_count": 47,
      "metadata": {
        "id": "xrJ1X9ZhOqvR"
      },
      "outputs": [],
      "source": [
        "cm = metrics.confusion_matrix(y_test, resultados)"
      ]
    },
    {
      "cell_type": "code",
      "execution_count": 48,
      "metadata": {
        "colab": {
          "base_uri": "https://localhost:8080/"
        },
        "id": "VO1h83DtOqvS",
        "outputId": "1d00f285-0cdf-498b-c392-9829f85fddec"
      },
      "outputs": [
        {
          "data": {
            "text/plain": [
              "array([[1443,    8],\n",
              "       [  21,   82]])"
            ]
          },
          "execution_count": 48,
          "metadata": {},
          "output_type": "execute_result"
        }
      ],
      "source": [
        "cm"
      ]
    },
    {
      "cell_type": "code",
      "execution_count": 49,
      "metadata": {
        "colab": {
          "base_uri": "https://localhost:8080/",
          "height": 472
        },
        "id": "RgWXQPYpOqvS",
        "outputId": "857c8503-0de4-4fde-f593-5fbf085f661d"
      },
      "outputs": [
        {
          "data": {
            "image/png": "[encoded data removed]",
            "text/plain": [
              "<Figure size 640x480 with 2 Axes>"
            ]
          },
          "metadata": {},
          "output_type": "display_data"
        }
      ],
      "source": [
        "classes = [0,1]\n",
        "sns.heatmap(cm, annot=True, xticklabels=classes, yticklabels=classes, fmt='d', cmap='Blues')\n",
        "plt.xlabel('Classe Predita')\n",
        "plt.ylabel('Classe Real')\n",
        "plt.title('Matriz de Confusão')\n",
        "plt.show()"
      ]
    },
    {
      "cell_type": "code",
      "execution_count": 49,
      "metadata": {
        "id": "kQu9FJtOOqvS"
      },
      "outputs": [],
      "source": []
    }
  ],
  "metadata": {
    "colab": {
      "provenance": []
    },
    "kernelspec": {
      "display_name": "Python 3",
      "language": "python",
      "name": "python3"
    },
    "language_info": {
      "codemirror_mode": {
        "name": "ipython",
        "version": 3
      },
      "file_extension": ".py",
      "mimetype": "text/x-python",
      "name": "python",
      "nbconvert_exporter": "python",
      "pygments_lexer": "ipython3",
      "version": "3.11.9"
    },
    "orig_nbformat": 4
  },
  "nbformat": 4,
  "nbformat_minor": 0
}
